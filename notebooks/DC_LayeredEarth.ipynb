{
 "cells": [
  {
   "cell_type": "code",
   "execution_count": 3,
   "metadata": {},
   "outputs": [
    {
     "name": "stdout",
     "output_type": "stream",
     "text": [
      "Collecting em_examples\n",
      "  Using cached https://files.pythonhosted.org/packages/ca/01/3b3c3f7402fc2967811398ab00789bd273afd2cb1ccada0e0774bff54e30/em_examples-0.0.30-py2.py3-none-any.whl\n",
      "Requirement already satisfied: jupyter in c:\\users\\leomi\\anaconda2\\lib\\site-packages (from em_examples) (1.0.0)\n",
      "Requirement already satisfied: Pillow in c:\\users\\leomi\\anaconda2\\lib\\site-packages (from em_examples) (4.2.1)\n",
      "Requirement already satisfied: requests in c:\\users\\leomi\\anaconda2\\lib\\site-packages (from em_examples) (2.18.4)\n",
      "Requirement already satisfied: ipywidgets in c:\\users\\leomi\\anaconda2\\lib\\site-packages (from em_examples) (7.2.1)\n",
      "Collecting deepdish (from em_examples)\n",
      "  Using cached https://files.pythonhosted.org/packages/6e/39/2a47c852651982bc5eb39212ac110284dd20126bdc7b49bde401a0139f5d/deepdish-0.3.6-py2.py3-none-any.whl\n",
      "Collecting SimPEG>=0.4.1 (from em_examples)\n",
      "  Using cached https://files.pythonhosted.org/packages/4f/b5/042629700a6bec03b3a693c4dcb15b15087668c5ae5f4142ba8d7b8aee8e/SimPEG-0.9.2-py2.py3-none-any.whl\n",
      "Requirement already satisfied: future in c:\\users\\leomi\\anaconda2\\lib\\site-packages (from em_examples) (0.16.0)\n",
      "Collecting empymod (from em_examples)\n",
      "  Downloading https://files.pythonhosted.org/packages/63/1a/e5effc387d915760c793f9ae3f2230a1f928f10d25b4e8e56a76a91dad9e/empymod-1.7.3.tar.gz (220kB)\n",
      "Collecting pymatsolver>=0.1.2 (from em_examples)\n",
      "  Downloading https://files.pythonhosted.org/packages/47/4c/1aa981b953093a093a86a5e28ee6c004cfbc67bcb7d6a5818fc31535ce8e/pymatsolver-0.1.2-py2-none-any.whl\n",
      "Requirement already satisfied: numpy>=1.7 in c:\\users\\leomi\\anaconda2\\lib\\site-packages (from em_examples) (1.14.3)\n",
      "Requirement already satisfied: scipy>=0.13 in c:\\users\\leomi\\anaconda2\\lib\\site-packages (from em_examples) (1.1.0)\n",
      "Requirement already satisfied: matplotlib>2.1. in c:\\users\\leomi\\anaconda2\\lib\\site-packages (from em_examples) (2.1.1)\n",
      "Requirement already satisfied: notebook in c:\\users\\leomi\\anaconda2\\lib\\site-packages (from jupyter->em_examples) (5.5.0)\n",
      "Requirement already satisfied: qtconsole in c:\\users\\leomi\\anaconda2\\lib\\site-packages (from jupyter->em_examples) (4.3.1)\n",
      "Requirement already satisfied: jupyter-console in c:\\users\\leomi\\anaconda2\\lib\\site-packages (from jupyter->em_examples) (5.2.0)\n",
      "Requirement already satisfied: nbconvert in c:\\users\\leomi\\anaconda2\\lib\\site-packages (from jupyter->em_examples) (5.3.1)\n",
      "Requirement already satisfied: ipykernel in c:\\users\\leomi\\anaconda2\\lib\\site-packages (from jupyter->em_examples) (4.8.2)\n",
      "Requirement already satisfied: olefile in c:\\users\\leomi\\anaconda2\\lib\\site-packages (from Pillow->em_examples) (0.45.1)\n",
      "Requirement already satisfied: chardet<3.1.0,>=3.0.2 in c:\\users\\leomi\\anaconda2\\lib\\site-packages (from requests->em_examples) (3.0.4)\n",
      "Requirement already satisfied: idna<2.7,>=2.5 in c:\\users\\leomi\\anaconda2\\lib\\site-packages (from requests->em_examples) (2.6)\n",
      "Requirement already satisfied: urllib3<1.23,>=1.21.1 in c:\\users\\leomi\\anaconda2\\lib\\site-packages (from requests->em_examples) (1.22)\n",
      "Requirement already satisfied: certifi>=2017.4.17 in c:\\users\\leomi\\anaconda2\\lib\\site-packages (from requests->em_examples) (2018.8.24)\n",
      "Requirement already satisfied: traitlets>=4.3.1 in c:\\users\\leomi\\anaconda2\\lib\\site-packages (from ipywidgets->em_examples) (4.3.2)\n",
      "Requirement already satisfied: nbformat>=4.2.0 in c:\\users\\leomi\\anaconda2\\lib\\site-packages (from ipywidgets->em_examples) (4.4.0)\n",
      "Requirement already satisfied: widgetsnbextension~=3.2.0 in c:\\users\\leomi\\anaconda2\\lib\\site-packages (from ipywidgets->em_examples) (3.2.1)\n",
      "Requirement already satisfied: ipython<6.0.0,>=4.0.0 in c:\\users\\leomi\\anaconda2\\lib\\site-packages (from ipywidgets->em_examples) (5.7.0)\n",
      "Requirement already satisfied: tables in c:\\users\\leomi\\anaconda2\\lib\\site-packages (from deepdish->em_examples) (3.4.3)\n",
      "Requirement already satisfied: cython in c:\\users\\leomi\\anaconda2\\lib\\site-packages (from SimPEG>=0.4.1->em_examples) (0.28.2)\n",
      "Collecting geoana>=0.0.4 (from SimPEG>=0.4.1->em_examples)\n",
      "  Using cached https://files.pythonhosted.org/packages/60/34/5715c1b3e35b4b7e0fdef463405c9ae5b073563f48118f2a54165be78cdc/geoana-0.0.5-py2.py3-none-any.whl\n",
      "Collecting properties>=0.5.2 (from SimPEG>=0.4.1->em_examples)\n",
      "  Using cached https://files.pythonhosted.org/packages/61/9c/034bb67472f33d399a789875e98c3fc47c8ad9f6a59efbf23f3d65a6dd1e/properties-0.5.3.tar.gz\n",
      "Collecting discretize>=0.2.0 (from SimPEG>=0.4.1->em_examples)\n",
      "  Downloading https://files.pythonhosted.org/packages/40/d5/075a63157ee7bf09d776db2c39aa803bef774ffbbe89d49a59f0c6b5e941/discretize-0.3.2-cp27-cp27m-win_amd64.whl (501kB)\n",
      "Collecting vectormath>=0.2.0 (from SimPEG>=0.4.1->em_examples)\n",
      "  Using cached https://files.pythonhosted.org/packages/c7/44/297304759e6e5076b5fe96cdef1dd7ff6e1c67b1e735a8284ab7f5555712/vectormath-0.2.0.tar.gz\n",
      "Collecting pyMKL>=0.0.3 (from pymatsolver>=0.1.2->em_examples)\n",
      "  Using cached https://files.pythonhosted.org/packages/43/9d/0657fdb64d31a83c5caab80a70e55dac7658ba3fac7d1f43cbcca726b286/pyMKL-0.0.3.tar.gz\n",
      "Requirement already satisfied: six>=1.10 in c:\\users\\leomi\\anaconda2\\lib\\site-packages (from matplotlib>2.1.->em_examples) (1.11.0)\n",
      "Requirement already satisfied: python-dateutil>=2.0 in c:\\users\\leomi\\anaconda2\\lib\\site-packages (from matplotlib>2.1.->em_examples) (2.7.3)\n",
      "Requirement already satisfied: backports.functools_lru_cache in c:\\users\\leomi\\anaconda2\\lib\\site-packages (from matplotlib>2.1.->em_examples) (1.5)\n",
      "Requirement already satisfied: pytz in c:\\users\\leomi\\anaconda2\\lib\\site-packages (from matplotlib>2.1.->em_examples) (2018.4)\n",
      "Requirement already satisfied: cycler>=0.10 in c:\\users\\leomi\\anaconda2\\lib\\site-packages (from matplotlib>2.1.->em_examples) (0.10.0)\n",
      "Requirement already satisfied: pyparsing!=2.0.4,!=2.1.2,!=2.1.6,>=2.0.1 in c:\\users\\leomi\\anaconda2\\lib\\site-packages (from matplotlib>2.1.->em_examples) (2.2.0)\n",
      "Requirement already satisfied: jupyter-client>=5.2.0 in c:\\users\\leomi\\anaconda2\\lib\\site-packages (from notebook->jupyter->em_examples) (5.2.3)\n",
      "Requirement already satisfied: Send2Trash in c:\\users\\leomi\\anaconda2\\lib\\site-packages (from notebook->jupyter->em_examples) (1.5.0)\n",
      "Requirement already satisfied: tornado>=4 in c:\\users\\leomi\\anaconda2\\lib\\site-packages (from notebook->jupyter->em_examples) (5.0.2)\n",
      "Requirement already satisfied: pyzmq>=17 in c:\\users\\leomi\\anaconda2\\lib\\site-packages (from notebook->jupyter->em_examples) (17.0.0)\n",
      "Requirement already satisfied: jinja2 in c:\\users\\leomi\\anaconda2\\lib\\site-packages (from notebook->jupyter->em_examples) (2.10)\n",
      "Requirement already satisfied: terminado>=0.8.1 in c:\\users\\leomi\\anaconda2\\lib\\site-packages (from notebook->jupyter->em_examples) (0.8.1)\n",
      "Requirement already satisfied: ipython-genutils in c:\\users\\leomi\\anaconda2\\lib\\site-packages (from notebook->jupyter->em_examples) (0.2.0)\n",
      "Requirement already satisfied: jupyter-core>=4.4.0 in c:\\users\\leomi\\anaconda2\\lib\\site-packages (from notebook->jupyter->em_examples) (4.4.0)\n",
      "Requirement already satisfied: prompt_toolkit<2.0.0,>=1.0.0 in c:\\users\\leomi\\anaconda2\\lib\\site-packages (from jupyter-console->jupyter->em_examples) (1.0.15)\n",
      "Requirement already satisfied: pygments in c:\\users\\leomi\\anaconda2\\lib\\site-packages (from jupyter-console->jupyter->em_examples) (2.2.0)\n",
      "Requirement already satisfied: mistune>=0.7.4 in c:\\users\\leomi\\anaconda2\\lib\\site-packages (from nbconvert->jupyter->em_examples) (0.8.3)\n",
      "Requirement already satisfied: entrypoints>=0.2.2 in c:\\users\\leomi\\anaconda2\\lib\\site-packages (from nbconvert->jupyter->em_examples) (0.2.3)\n",
      "Requirement already satisfied: bleach in c:\\users\\leomi\\anaconda2\\lib\\site-packages (from nbconvert->jupyter->em_examples) (2.1.3)\n",
      "Requirement already satisfied: pandocfilters>=1.4.1 in c:\\users\\leomi\\anaconda2\\lib\\site-packages (from nbconvert->jupyter->em_examples) (1.4.2)\n",
      "Requirement already satisfied: testpath in c:\\users\\leomi\\anaconda2\\lib\\site-packages (from nbconvert->jupyter->em_examples) (0.3.1)\n",
      "Requirement already satisfied: decorator in c:\\users\\leomi\\anaconda2\\lib\\site-packages (from traitlets>=4.3.1->ipywidgets->em_examples) (4.3.0)\n",
      "Requirement already satisfied: enum34 in c:\\users\\leomi\\anaconda2\\lib\\site-packages (from traitlets>=4.3.1->ipywidgets->em_examples) (1.1.6)\n",
      "Requirement already satisfied: jsonschema!=2.5.0,>=2.4 in c:\\users\\leomi\\anaconda2\\lib\\site-packages (from nbformat>=4.2.0->ipywidgets->em_examples) (2.6.0)\n",
      "Requirement already satisfied: setuptools>=18.5 in c:\\users\\leomi\\anaconda2\\lib\\site-packages (from ipython<6.0.0,>=4.0.0->ipywidgets->em_examples) (39.1.0)\n",
      "Requirement already satisfied: pickleshare in c:\\users\\leomi\\anaconda2\\lib\\site-packages (from ipython<6.0.0,>=4.0.0->ipywidgets->em_examples) (0.7.4)\n",
      "Requirement already satisfied: win-unicode-console>=0.5; sys_platform == \"win32\" and python_version < \"3.6\" in c:\\users\\leomi\\anaconda2\\lib\\site-packages (from ipython<6.0.0,>=4.0.0->ipywidgets->em_examples) (0.5)\n",
      "Requirement already satisfied: pathlib2; python_version == \"2.7\" or python_version == \"3.3\" in c:\\users\\leomi\\anaconda2\\lib\\site-packages (from ipython<6.0.0,>=4.0.0->ipywidgets->em_examples) (2.3.2)\n",
      "Requirement already satisfied: backports.shutil-get-terminal-size; python_version == \"2.7\" in c:\\users\\leomi\\anaconda2\\lib\\site-packages (from ipython<6.0.0,>=4.0.0->ipywidgets->em_examples) (1.0.0)\n",
      "Requirement already satisfied: colorama; sys_platform == \"win32\" in c:\\users\\leomi\\anaconda2\\lib\\site-packages (from ipython<6.0.0,>=4.0.0->ipywidgets->em_examples) (0.3.9)\n",
      "Requirement already satisfied: simplegeneric>0.8 in c:\\users\\leomi\\anaconda2\\lib\\site-packages (from ipython<6.0.0,>=4.0.0->ipywidgets->em_examples) (0.8.1)\n",
      "Requirement already satisfied: numexpr>=2.5.2 in c:\\users\\leomi\\anaconda2\\lib\\site-packages (from tables->deepdish->em_examples) (2.6.5)\n",
      "Collecting utm (from geoana>=0.0.4->SimPEG>=0.4.1->em_examples)\n",
      "  Using cached https://files.pythonhosted.org/packages/92/d9/8bdb3d477dcaf75e1a1021772892f729a055787a08aa472582c5d35a0b36/utm-0.4.2.tar.gz\n",
      "Requirement already satisfied: futures in c:\\users\\leomi\\anaconda2\\lib\\site-packages (from tornado>=4->notebook->jupyter->em_examples) (3.2.0)\n",
      "Requirement already satisfied: singledispatch in c:\\users\\leomi\\anaconda2\\lib\\site-packages (from tornado>=4->notebook->jupyter->em_examples) (3.4.0.3)\n",
      "Requirement already satisfied: backports_abc>=0.4 in c:\\users\\leomi\\anaconda2\\lib\\site-packages (from tornado>=4->notebook->jupyter->em_examples) (0.5)\n",
      "Requirement already satisfied: MarkupSafe>=0.23 in c:\\users\\leomi\\anaconda2\\lib\\site-packages (from jinja2->notebook->jupyter->em_examples) (1.0)\n",
      "Requirement already satisfied: wcwidth in c:\\users\\leomi\\anaconda2\\lib\\site-packages (from prompt_toolkit<2.0.0,>=1.0.0->jupyter-console->jupyter->em_examples) (0.1.7)\n",
      "Requirement already satisfied: html5lib!=1.0b1,!=1.0b2,!=1.0b3,!=1.0b4,!=1.0b5,!=1.0b6,!=1.0b7,!=1.0b8,>=0.99999999pre in c:\\users\\leomi\\anaconda2\\lib\\site-packages (from bleach->nbconvert->jupyter->em_examples) (1.0.1)\n",
      "Requirement already satisfied: functools32 in c:\\users\\leomi\\anaconda2\\lib\\site-packages (from jsonschema!=2.5.0,>=2.4->nbformat>=4.2.0->ipywidgets->em_examples) (3.2.3.post2)\n",
      "Requirement already satisfied: scandir in c:\\users\\leomi\\anaconda2\\lib\\site-packages (from pathlib2; python_version == \"2.7\" or python_version == \"3.3\"->ipython<6.0.0,>=4.0.0->ipywidgets->em_examples) (1.7)\n",
      "Requirement already satisfied: webencodings in c:\\users\\leomi\\anaconda2\\lib\\site-packages (from html5lib!=1.0b1,!=1.0b2,!=1.0b3,!=1.0b4,!=1.0b5,!=1.0b6,!=1.0b7,!=1.0b8,>=0.99999999pre->bleach->nbconvert->jupyter->em_examples) (0.5.1)\n",
      "Building wheels for collected packages: empymod, properties, vectormath, pyMKL, utm\n",
      "  Running setup.py bdist_wheel for empymod: started\n",
      "  Running setup.py bdist_wheel for empymod: finished with status 'done'\n",
      "  Stored in directory: C:\\Users\\leomi\\AppData\\Local\\pip\\Cache\\wheels\\de\\eb\\01\\270cb6f4936e92c2df2ec25a2fb59ae894ecee888f82f410c5\n",
      "  Running setup.py bdist_wheel for properties: started\n",
      "  Running setup.py bdist_wheel for properties: finished with status 'done'\n",
      "  Stored in directory: C:\\Users\\leomi\\AppData\\Local\\pip\\Cache\\wheels\\76\\46\\be\\6a1402b7cfa1ca30e7fda543437f5dd615abef8aeb7a3d62c6\n",
      "  Running setup.py bdist_wheel for vectormath: started\n",
      "  Running setup.py bdist_wheel for vectormath: finished with status 'done'\n",
      "  Stored in directory: C:\\Users\\leomi\\AppData\\Local\\pip\\Cache\\wheels\\a2\\86\\4d\\f9890cfc126a83639eb2651f1e66f6d7f7bf0322b237f5a17b\n",
      "  Running setup.py bdist_wheel for pyMKL: started\n",
      "  Running setup.py bdist_wheel for pyMKL: finished with status 'done'\n",
      "  Stored in directory: C:\\Users\\leomi\\AppData\\Local\\pip\\Cache\\wheels\\d6\\40\\40\\df64f35d394a22fbecae00749cb8e7071798a3554fac9e5abe\n",
      "  Running setup.py bdist_wheel for utm: started\n",
      "  Running setup.py bdist_wheel for utm: finished with status 'done'\n",
      "  Stored in directory: C:\\Users\\leomi\\AppData\\Local\\pip\\Cache\\wheels\\1d\\2d\\5a\\4c6320941f607ffefd353e1bb715e33a250a59f835cf0fbdd8\n",
      "Successfully built empymod properties vectormath pyMKL utm\n",
      "Installing collected packages: deepdish, properties, utm, geoana, pyMKL, pymatsolver, discretize, vectormath, SimPEG, empymod, em-examples\n",
      "Successfully installed SimPEG-0.9.2 deepdish-0.3.6 discretize-0.3.2 em-examples-0.0.30 empymod-1.7.3 geoana-0.0.5 properties-0.5.3 pyMKL-0.0.3 pymatsolver-0.1.2 utm-0.4.2 vectormath-0.2.0\n"
     ]
    }
   ],
   "source": [
    "!pip install em_examples"
   ]
  },
  {
   "cell_type": "code",
   "execution_count": 4,
   "metadata": {},
   "outputs": [],
   "source": [
    "from em_examples import DCLayers\n",
    "from IPython.display import display\n",
    "%matplotlib inline"
   ]
  },
  {
   "cell_type": "code",
   "execution_count": 5,
   "metadata": {},
   "outputs": [],
   "source": [
    "from matplotlib import rcParams\n",
    "rcParams['font.size'] = 14"
   ]
  },
  {
   "cell_type": "markdown",
   "metadata": {},
   "source": [
    "# Purpose\n",
    "\n",
    "## Investigating DC Resistivity Data \n",
    "\n",
    "Using the widgets contained in this notebook we will explore the physical principals governing DC resistivity including the behavior of currents, electric field, electric potentials in a two layer earth. \n",
    "\n",
    "The measured data in a DC experiment are potential differences, we will demonstrate how these  provide information about subsurface physical properties. "
   ]
  },
  {
   "cell_type": "markdown",
   "metadata": {},
   "source": [
    "### Background: Computing Apparent Resistivity\n",
    "\n",
    "In practice we cannot measure the potentials everywhere, we are limited to those locations where we place electrodes. For each source (current electrode pair) many potential differences are measured between M and N electrode pairs to characterize the overall distribution of potentials. The widget below allows you to visualize the potentials, electric fields, and current densities from a dipole source in a simple model with 2 layers. For different electrode configurations you can measure the potential differences and see the calculated apparent resistivities. \n",
    "\n",
    "In a uniform halfspace the potential differences can be computed by summing up the potentials at each measurement point from the different current sources based on the following equations:\n",
    "\n",
    "\\begin{align}\n",
    "    V_M = \\frac{\\rho I}{2 \\pi} \\left[ \\frac{1}{AM} - \\frac{1}{MB} \\right] \\\\\n",
    "    V_N = \\frac{\\rho I}{2 \\pi} \\left[ \\frac{1}{AN} - \\frac{1}{NB} \\right] \n",
    "\\end{align} \n",
    "where $AM$, $MB$, $AN$, and $NB$ are the distances between the corresponding electrodes. \n",
    "\n",
    "The potential difference $\\Delta V_{MN}$ in a dipole-dipole survey can therefore be expressed as follows,\n",
    "\n",
    "\\begin{equation}\n",
    "    \\Delta V_{MN} = V_M - V_N = \\rho I \\underbrace{\\frac{1}{2 \\pi} \\left[ \\frac{1}{AM} - \\frac{1}{MB} - \\frac{1}{AN} + \\frac{1}{NB} \\right]}_{G}\n",
    "\\end{equation}\n",
    "\n",
    "and the resistivity of the halfspace $\\rho$ is equal to,\n",
    "\n",
    "$$\n",
    "    \\rho = \\frac{\\Delta V_{MN}}{IG}\n",
    "$$\n",
    "\n",
    "In this equation $G$ is often referred to as the geometric factor. \n",
    "\n",
    "In the case where we are not in a uniform halfspace the above equation is used to compute the apparent resistivity ($\\rho_a$) which is the resistivity of the uniform halfspace which best reproduces the measured potential difference.\n",
    "\n",
    "In the top plot the location of the A electrode is marked by the red +, the B electrode is marked by the blue -, and the M/N potential electrodes are marked by the black dots. The $V_M$ and $V_N$ potentials are printed just above and to the right of the black dots. The calculted apparent resistivity is shown in the grey box to the right. The bottom plot can show the resistivity model, the electric fields (e), potentials, or current densities (j) depending on which toggle button is selected. Some patience may be required for the plots to update after parameters have been changed."
   ]
  },
  {
   "cell_type": "markdown",
   "metadata": {},
   "source": [
    "# LayeredEarth app\n",
    "\n",
    "## Parameters:\n",
    "\n",
    " - **A**: (+) Current electrode  location\n",
    " - **B**: (-) Current electrode  location\n",
    " - **M**: (+) Potential electrode  location\n",
    " - **N**: (-) Potential electrode  location\n",
    " - **$\\rho_1$**: Resistivity of the first layer\n",
    " - **$\\rho_2$**: Resistivity of the second layer\n",
    " - **h**: Thickness of the first layer\n",
    " - **Plot**: Choice of 2D plot (Model, Potential, Electric field, Currents)\n"
   ]
  },
  {
   "cell_type": "code",
   "execution_count": 6,
   "metadata": {},
   "outputs": [
    {
     "data": {
      "application/vnd.jupyter.widget-view+json": {
       "model_id": "47749a39cdc54f379d0e90d43e6c53a9",
       "version_major": 2,
       "version_minor": 0
      },
      "text/plain": [
       "TXlBcHAoY2hpbGRyZW49KEZsb2F0U2xpZGVyKHZhbHVlPS0zMC4wLCBjb250aW51b3VzX3VwZGF0ZT1GYWxzZSwgZGVzY3JpcHRpb249dSdBJywgbWF4PTMwLjAsIG1pbj0tMzAuMCwgc3RlcD3igKY=\n"
      ]
     },
     "metadata": {},
     "output_type": "display_data"
    }
   ],
   "source": [
    "out = DCLayers.plot_layer_potentials_app()\n",
    "display(out)"
   ]
  },
  {
   "cell_type": "code",
   "execution_count": null,
   "metadata": {},
   "outputs": [],
   "source": []
  }
 ],
 "metadata": {
  "anaconda-cloud": {},
  "kernelspec": {
   "display_name": "Python 2",
   "language": "python",
   "name": "python2"
  },
  "language_info": {
   "codemirror_mode": {
    "name": "ipython",
    "version": 2
   },
   "file_extension": ".py",
   "mimetype": "text/x-python",
   "name": "python",
   "nbconvert_exporter": "python",
   "pygments_lexer": "ipython2",
   "version": "2.7.15"
  },
  "widgets": {
   "state": {
    "d1e777f115314ea497dca383d1bc4d52": {
     "views": [
      {
       "cell_index": 4
      }
     ]
    }
   },
   "version": "1.2.0"
  }
 },
 "nbformat": 4,
 "nbformat_minor": 1
}
