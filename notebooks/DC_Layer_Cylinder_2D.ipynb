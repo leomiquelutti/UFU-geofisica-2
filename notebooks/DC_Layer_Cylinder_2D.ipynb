{
 "cells": [
  {
   "cell_type": "code",
   "execution_count": 1,
   "metadata": {
    "scrolled": true
   },
   "outputs": [],
   "source": [
    "from em_examples.DCWidgetResLayer2D import ResLayer_app\n",
    "from IPython.display import display\n",
    "%matplotlib inline"
   ]
  },
  {
   "cell_type": "code",
   "execution_count": 2,
   "metadata": {},
   "outputs": [],
   "source": [
    "from matplotlib import rcParams\n",
    "rcParams['font.size'] = 16"
   ]
  },
  {
   "cell_type": "markdown",
   "metadata": {},
   "source": [
    "# Purpose\n",
    "\n",
    "In some situations the presence of a near surface layer can have large implications for the detectability of targets beneath the layer. If the near surface layer is very conductive current channelling occrurs and when the layer is very resistive it has a shielding effect. In both cases the near surface layer dramatically reduces the strength of currents beneath the layer and therefore also reduces the strength of charge build up on the surface of the target."
   ]
  },
  {
   "cell_type": "markdown",
   "metadata": {},
   "source": [
    "# Setup\n",
    "\n",
    "<img src=\"https://github.com/geoscixyz/em_apps/blob/master/images/DC_ResLayer_Setup.png?raw=true\">"
   ]
  },
  {
   "cell_type": "markdown",
   "metadata": {},
   "source": [
    "# Questions\n",
    "\n",
    "- How does the cylinder affect the apparent resistivity without the resistive layer?\n",
    "- How does the resistive layer affect the apparent resistivity? Is there a difference if you add or remove the cylinder target?"
   ]
  },
  {
   "cell_type": "markdown",
   "metadata": {},
   "source": [
    "# Effects of a highly resisitive surface layer"
   ]
  },
  {
   "cell_type": "markdown",
   "metadata": {},
   "source": [
    " - **survey**: Type of survey\n",
    " - **A**: (+) Current electrode  location\n",
    " - **B**: (-) Current electrode  location\n",
    " - **M**: (+) Potential electrode  location\n",
    " - **N**: (-) Potential electrode  location\n",
    " - **$dz_{layer}$**: height/thickness of layer\n",
    " - **$zc_{layer}$**: z location of layer\n",
    " - **xc**: x location of cylinder center\n",
    " - **zc**: z location of cylinder center\n",
    " - **r**: radius of cylinder\n",
    " - **$\\rho_{1}$**: Resistivity of the halfspace\n",
    " - **$\\rho_{2}$**: Resistivity of the layer\n",
    " - **$\\rho_{3}$**: Resistivity of the cylinder\n",
    " - **Field**: Field to visualize\n",
    " - **Type**: which part of the field"
   ]
  },
  {
   "cell_type": "code",
   "execution_count": 3,
   "metadata": {},
   "outputs": [
    {
     "data": {
      "application/vnd.jupyter.widget-view+json": {
       "model_id": "7b1844e227394d90b9bb74c1eedd6859",
       "version_major": 2,
       "version_minor": 0
      },
      "text/html": [
       "<p>Failed to display Jupyter Widget of type <code>MyApp</code>.</p>\n",
       "<p>\n",
       "  If you're reading this message in the Jupyter Notebook or JupyterLab Notebook, it may mean\n",
       "  that the widgets JavaScript is still loading. If this message persists, it\n",
       "  likely means that the widgets JavaScript library is either not installed or\n",
       "  not enabled. See the <a href=\"https://ipywidgets.readthedocs.io/en/stable/user_install.html\">Jupyter\n",
       "  Widgets Documentation</a> for setup instructions.\n",
       "</p>\n",
       "<p>\n",
       "  If you're reading this message in another frontend (for example, a static\n",
       "  rendering on GitHub or <a href=\"https://nbviewer.jupyter.org/\">NBViewer</a>),\n",
       "  it may mean that your frontend doesn't currently support widgets.\n",
       "</p>\n"
      ],
      "text/plain": [
       "MyApp(children=(ToggleButtons(description='survey', options=('Dipole-Dipole', 'Dipole-Pole', 'Pole-Dipole', 'Pole-Pole'), value='Dipole-Dipole'), FloatSlider(value=-30.25, continuous_update=False, description='A', max=30.25, min=-30.25, step=0.5), FloatSlider(value=30.25, continuous_update=False, description='B', max=30.25, min=-30.25, step=0.5), FloatSlider(value=-10.25, continuous_update=False, description='M', max=30.25, min=-30.25, step=0.5), FloatSlider(value=10.25, continuous_update=False, description='N', max=30.25, min=-30.25, step=0.5), FloatSlider(value=-10.0, continuous_update=False, description='$zc_{layer}$', max=0.0, min=-10.0, step=1.0), FloatSlider(value=1.0, continuous_update=False, description='$dz_{layer}$', max=5.0, min=0.5, step=0.5), FloatSlider(value=0.0, continuous_update=False, description='xc', max=30.0, min=-30.0, step=1.0), FloatSlider(value=-25.0, continuous_update=False, description='zc', max=-15.0, min=-30.0, step=0.5), FloatSlider(value=5.0, continuous_update=False, description='r', max=10.0, min=1.0, step=0.5), FloatText(value=500.0, description='$\\\\rho_{1}$'), FloatText(value=5000.0, description='$\\\\rho_{2}$'), FloatText(value=500.0, description='$\\\\rho_{3}$'), ToggleButtons(description='Field', options=('Model', 'Potential', 'E', 'J', 'Charge', 'Sensitivity'), value='Model'), ToggleButtons(description='Type', options=('Total', 'Primary', 'Secondary'), value='Total'), ToggleButtons(description='Scale', options=('Linear', 'Log'), value='Linear'), Output()), layout=Layout(align_items='stretch', display='flex', flex_flow='column'))"
      ]
     },
     "metadata": {},
     "output_type": "display_data"
    }
   ],
   "source": [
    "app = ResLayer_app()\n",
    "display(app)"
   ]
  },
  {
   "cell_type": "code",
   "execution_count": null,
   "metadata": {},
   "outputs": [],
   "source": []
  }
 ],
 "metadata": {
  "anaconda-cloud": {},
  "kernelspec": {
   "display_name": "Python 2",
   "language": "python",
   "name": "python2"
  },
  "language_info": {
   "codemirror_mode": {
    "name": "ipython",
    "version": 2
   },
   "file_extension": ".py",
   "mimetype": "text/x-python",
   "name": "python",
   "nbconvert_exporter": "python",
   "pygments_lexer": "ipython2",
   "version": "2.7.15"
  },
  "widgets": {
   "state": {
    "4ab839f1d4c54d078505a9d4c6ff9d0e": {
     "views": [
      {
       "cell_index": 6
      }
     ]
    }
   },
   "version": "1.2.0"
  }
 },
 "nbformat": 4,
 "nbformat_minor": 1
}
