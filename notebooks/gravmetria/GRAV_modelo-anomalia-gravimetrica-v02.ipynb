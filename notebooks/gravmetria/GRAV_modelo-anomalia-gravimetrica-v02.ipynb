{
 "cells": [
  {
   "cell_type": "markdown",
   "metadata": {},
   "source": [
    "**Course website**: https://github.com/leomiquelutti/UFU-geofisica-1\n",
    "\n",
    "**Note**: This notebook is part of the course \"Geofísica 1\" of Geology program of the \n",
    "[Universidade Federal de Uberlândia](http://www.ufu.br/). \n",
    "All content can be freely used and adapted under the terms of the \n",
    "[Creative Commons Attribution 4.0 International License](http://creativecommons.org/licenses/by/4.0/).\n",
    "\n",
    "![Creative Commons License](https://i.creativecommons.org/l/by/4.0/88x31.png)\n",
    "\n",
    "Agradecimentos especiais ao [Leonardo Uieda](www.leouieda.com)"
   ]
  },
  {
   "cell_type": "markdown",
   "metadata": {},
   "source": [
    "Esse documento que você está usando é um [Jupyter notebook](http://jupyter.org/). É um documento interativo que mistura texto (como esse), código (como abaixo), e o resultado de executar o código (números, texto, figuras, videos, etc)."
   ]
  },
  {
   "cell_type": "markdown",
   "metadata": {},
   "source": [
    "# Gravimetria - modelando a anomalia gravimétrica gerada por prismas e esferas\n",
    "\n",
    "## Objetivos\n",
    "\n",
    "* Visualizar a anomalia gravimétrica gerada por esferas.\n",
    "* Visualizar a anomalia gravimétrica gerada por prismas.\n",
    "* Verificar como os valores da anomalia variam com a dimensão do corpo.\n",
    "* Verificar como os valores da anomalia variam com a profundidade do corpo.\n",
    "* Verificar como os valores da anomalia variam com a densidade do corpo.\n",
    "* Verificar como as Transformadas atuam nos dados"
   ]
  },
  {
   "cell_type": "markdown",
   "metadata": {},
   "source": [
    "## Instruções\n",
    "\n",
    "O notebook te fornecerá exemplos interativos que trabalham os temas abordados no questionário. Utilize esses exemplos para responder as perguntas.\n",
    "\n",
    "As células com números ao lado, como `In [1]:`, são código [Python](http://python.org/). Algumas dessas células não produzem resultado e servem de preparação para os exemplos interativos. Outras, produzem gráficos interativos. **Você deve executar todas as células, uma de cada vez**, mesmo as que não produzem gráficos.\n",
    "\n",
    "Para executar uma célula, clique em cima dela e aperte `Shift + Enter`. O foco (contorno verde ou cinza em torno da célula) deverá passar para a célula abaixo. Para rodá-la, aperte `Shift + Enter` novamente e assim por diante. Você pode executar células de texto que não acontecerá nada."
   ]
  },
  {
   "cell_type": "code",
   "execution_count": null,
   "metadata": {},
   "outputs": [],
   "source": [
    "from fatiando import mesher, gridder, utils\n",
    "from fatiando.gravmag import sphere, prism, transform\n",
    "from fatiando.mesher import Polygon\n",
    "from fatiando.vis import mpl\n",
    "import numpy as np"
   ]
  },
  {
   "cell_type": "markdown",
   "metadata": {},
   "source": [
    "### Modelo\n",
    "A célula abaixo contém o modelo de **prismas** definidos pelo usuário. "
   ]
  },
  {
   "cell_type": "code",
   "execution_count": null,
   "metadata": {},
   "outputs": [],
   "source": [
    "def prism2polygon(prism):\n",
    "    vertices = [[prism.x1, prism.y1],\n",
    "               [prism.x2, prism.y1],\n",
    "               [prism.x2, prism.y2],\n",
    "               [prism.x1, prism.y2]]\n",
    "    return vertices"
   ]
  },
  {
   "cell_type": "code",
   "execution_count": null,
   "metadata": {},
   "outputs": [],
   "source": [
    "model = [mesher.Prism(-4000, -3000, -4000, -3000, 0, 2000, {'density': 1000}),\n",
    "         mesher.Prism(-1000, 1000, -1000, 1000, 0, 2000, {'density': -1000}),\n",
    "         mesher.Prism(2000, 4000, 3000, 4000, 0, 2000, {'density': 1000}),\n",
    "         mesher.Prism(-2900, -3100, 2900, 3100, 0, 100, {'density': 1300})]\n",
    "pol = np.empty(model.__len__(), dtype=object)\n",
    "for i in range(model.__len__()):\n",
    "    pol[i] = Polygon(prism2polygon(model[i]))"
   ]
  },
  {
   "cell_type": "markdown",
   "metadata": {},
   "source": [
    "**Altere-os e execute novamente o programa para observar como o resultado se comporta**. \n",
    "\n",
    "Tente adicionar prismas com parâmetros diferentes, lembrando que \n",
    "\n",
    "`mesher.Prism(x1, x2, y1, y2, z1, z2, {'density': -1000})`\n",
    "\n",
    "Documentação para `mesher.prism` [aqui](https://www.fatiando.org/api/mesher.html#fatiando.mesher.Prism). "
   ]
  },
  {
   "cell_type": "markdown",
   "metadata": {},
   "source": [
    "A célula abaixo define um grid e calcula a anomalia de acordo com os parâmetros do usuário."
   ]
  },
  {
   "cell_type": "code",
   "execution_count": null,
   "metadata": {},
   "outputs": [],
   "source": [
    "# Create a regular grid at 150 m height\n",
    "shape = (100, 100)\n",
    "xp, yp, zp = gridder.regular((-5000, 5000, -5000, 5000), shape, z=-1)\n",
    "fields = [prism.potential(xp, yp, zp, model),\n",
    "          prism.gx(xp, yp, zp, model),\n",
    "          prism.gy(xp, yp, zp, model),\n",
    "          prism.gz(xp, yp, zp, model),\n",
    "          prism.gxx(xp, yp, zp, model),\n",
    "          prism.gxy(xp, yp, zp, model),\n",
    "          prism.gxz(xp, yp, zp, model),\n",
    "          prism.gyy(xp, yp, zp, model),\n",
    "          prism.gyz(xp, yp, zp, model),\n",
    "          prism.gzz(xp, yp, zp, model)]"
   ]
  },
  {
   "cell_type": "markdown",
   "metadata": {},
   "source": [
    "A célula abaixo cria a imagem da _anomalia de campo total_."
   ]
  },
  {
   "cell_type": "code",
   "execution_count": null,
   "metadata": {},
   "outputs": [],
   "source": [
    "# Plot position\n",
    "mpl.figure(figsize=(25, 25))\n",
    "mpl.set_area([-5000, 5000, -5000, 5000])\n",
    "for i in range(pol.__len__()):\n",
    "        mpl.polygon(pol[i], '-k', linewidth=10, xy2ne=True)"
   ]
  },
  {
   "cell_type": "code",
   "execution_count": null,
   "metadata": {},
   "outputs": [],
   "source": [
    "# Plot\n",
    "titles = ['potential', 'gx', 'gy', 'gz',\n",
    "          'gxx', 'gxy', 'gxz', 'gyy', 'gyz', 'gzz']\n",
    "mpl.figure(figsize=(20, 25))\n",
    "mpl.subplots_adjust(left=0.03, right=0.95, bottom=0.05, top=0.92, hspace=0.3)\n",
    "mpl.suptitle(\"Potential fields produced by a 3 prism model\")\n",
    "for i, field in enumerate(fields):\n",
    "    mpl.subplot(4, 3, i + 3)\n",
    "    for j in range(pol.__len__()):\n",
    "        mpl.polygon(pol[j], '-k', linewidth=10, xy2ne=True)\n",
    "    mpl.axis('scaled')\n",
    "    mpl.title(titles[i])\n",
    "    levels = mpl.contourf(yp * 0.001, xp * 0.001, field, shape, 15)\n",
    "    cb = mpl.colorbar()\n",
    "    mpl.contour(yp * 0.001, xp * 0.001, field, shape, levels, clabel=False, linewidth=0.1)\n",
    "mpl.show()"
   ]
  },
  {
   "cell_type": "markdown",
   "metadata": {},
   "source": [
    "As células abaixo calculam as __derivadas__ do campo nas direções __x__, __y__ e __z__ e então plotam"
   ]
  },
  {
   "cell_type": "code",
   "execution_count": null,
   "metadata": {},
   "outputs": [],
   "source": [
    "tf = fields[3]\n",
    "tfx = transform.derivx(xp, yp, tf, shape)\n",
    "tfy = transform.derivy(xp, yp, tf, shape)\n",
    "tfz = transform.derivz(xp, yp, tf, shape)"
   ]
  },
  {
   "cell_type": "code",
   "execution_count": null,
   "metadata": {},
   "outputs": [],
   "source": [
    "# Plot\n",
    "mpl.figure(figsize=(25, 10))\n",
    "mpl.subplots_adjust(top=0.95, left=0.05, right=0.95)\n",
    "mpl.subplot(1, 3, 1)\n",
    "mpl.title(\"x deriv\", fontsize=20)\n",
    "mpl.axis('scaled')\n",
    "levels = mpl.contourf(yp, xp, tfx, shape, 12)\n",
    "mpl.colorbar(shrink=0.7)\n",
    "for i in range(pol.__len__()):\n",
    "    mpl.polygon(pol[i], '-k', xy2ne=True)\n",
    "#mpl.contour(yp, xp, gxz, shape, 12, color='k')\n",
    "mpl.m2km()\n",
    "mpl.subplot(1, 3, 2)\n",
    "mpl.title(\"y deriv\", fontsize=20)\n",
    "mpl.axis('scaled')\n",
    "levels = mpl.contourf(yp, xp, tfy, shape, 12)\n",
    "mpl.colorbar(shrink=0.7)\n",
    "#mpl.contour(yp, xp, gyz, shape, 12, color='k')\n",
    "for i in range(pol.__len__()):\n",
    "    mpl.polygon(pol[i], '-k', xy2ne=True)\n",
    "mpl.m2km()\n",
    "mpl.subplot(1, 3, 3)\n",
    "mpl.title(\"z deriv\", fontsize=20)\n",
    "mpl.axis('scaled')\n",
    "levels = mpl.contourf(yp, xp, tfz, shape, 8)\n",
    "mpl.colorbar(shrink=0.7)\n",
    "for i in range(pol.__len__()):\n",
    "    mpl.polygon(pol[i], '-k', xy2ne=True)\n",
    "#mpl.contour(yp, xp, gzz, shape, levels, color='k')\n",
    "mpl.show()"
   ]
  },
  {
   "cell_type": "markdown",
   "metadata": {},
   "source": [
    "As células abaixo calculam a __continuação para cima__ do campo e então plotam"
   ]
  },
  {
   "cell_type": "code",
   "execution_count": null,
   "metadata": {},
   "outputs": [],
   "source": [
    "height = 1000  # How much higher to go\n",
    "tfcontf = transform.upcontinue(xp, yp, tf, shape, height)\n",
    "gz_true = prism.gz(xp, yp, zp - height, model)"
   ]
  },
  {
   "cell_type": "code",
   "execution_count": null,
   "metadata": {},
   "outputs": [],
   "source": [
    "# Plot\n",
    "mpl.figure(figsize=(25, 10))\n",
    "mpl.subplots_adjust(top=0.95, left=0.05, right=0.95)\n",
    "mpl.subplot(1, 3, 1)\n",
    "mpl.title(\"original\", fontsize=20)\n",
    "mpl.axis('scaled')\n",
    "levels = mpl.contourf(yp, xp, tf, shape, 30)\n",
    "mpl.colorbar(shrink=0.7)\n",
    "for i in range(pol.__len__()):\n",
    "    mpl.polygon(pol[i], '-k', xy2ne=True)\n",
    "#mpl.contour(yp, xp, gxz, shape, 12, color='k')\n",
    "mpl.m2km()\n",
    "mpl.subplot(1, 3, 2)\n",
    "mpl.title(\"continuacao para cima\", fontsize=20)\n",
    "mpl.axis('scaled')\n",
    "levels = mpl.contourf(yp, xp, tfcontf, shape, 30)\n",
    "mpl.colorbar(shrink=0.7)\n",
    "for i in range(pol.__len__()):\n",
    "    mpl.polygon(pol[i], '-k', xy2ne=True)\n",
    "#mpl.contour(yp, xp, gyz, shape, 12, color='k')\n",
    "mpl.m2km()\n",
    "mpl.subplot(1, 3, 3)\n",
    "mpl.title(\"campo calculado na altura verdadeira\", fontsize=20)\n",
    "mpl.axis('scaled')\n",
    "levels = mpl.contourf(yp, xp, gz_true, shape, 30)\n",
    "mpl.colorbar(shrink=0.7)\n",
    "for i in range(pol.__len__()):\n",
    "    mpl.polygon(pol[i], '-k', xy2ne=True)\n",
    "#mpl.contour(yp, xp, gyz, shape, 12, color='k')\n",
    "mpl.m2km()"
   ]
  },
  {
   "cell_type": "markdown",
   "metadata": {},
   "source": [
    "As células abaixo calculam a __amplitude do gradiente total__ (também chamado de __sinal analítico__) do campo e então plotam"
   ]
  },
  {
   "cell_type": "code",
   "execution_count": null,
   "metadata": {},
   "outputs": [],
   "source": [
    "total_grad_amp = transform.tga(xp, yp, tf, shape)"
   ]
  },
  {
   "cell_type": "code",
   "execution_count": null,
   "metadata": {},
   "outputs": [],
   "source": [
    "#Plot\n",
    "mpl.figure(figsize=(25, 10))\n",
    "mpl.subplot(1, 2, 1)\n",
    "mpl.title(\"Original field anomaly\", fontsize=20)\n",
    "mpl.axis('scaled')\n",
    "#mpl.contourf(yp, xp, tf, shape, 30, cmap=mpl.cm.RdBu_r)\n",
    "mpl.contourf(yp, xp, tf, shape, 30)\n",
    "mpl.colorbar(orientation='horizontal').set_label('mGal')\n",
    "for i in range(pol.__len__()):\n",
    "    mpl.polygon(pol[i], '-k', xy2ne=True)\n",
    "mpl.m2km()\n",
    "mpl.subplot(1, 2, 2)\n",
    "mpl.title(\"Total Gradient Amplitude\", fontsize=20)\n",
    "mpl.axis('scaled')\n",
    "#mpl.contourf(yp, xp, total_grad_amp, shape, 30, cmap=mpl.cm.RdBu_r)\n",
    "mpl.contourf(yp, xp, total_grad_amp, shape, 30)\n",
    "mpl.colorbar(orientation='horizontal').set_label('mGal/m')\n",
    "for i in range(pol.__len__()):\n",
    "    mpl.polygon(pol[i], '-k', xy2ne=True)\n",
    "mpl.m2km()\n",
    "mpl.show()"
   ]
  }
 ],
 "metadata": {
  "kernelspec": {
   "display_name": "Python 2",
   "language": "python",
   "name": "python2"
  },
  "language_info": {
   "codemirror_mode": {
    "name": "ipython",
    "version": 2
   },
   "file_extension": ".py",
   "mimetype": "text/x-python",
   "name": "python",
   "nbconvert_exporter": "python",
   "pygments_lexer": "ipython2",
   "version": "2.7.15"
  }
 },
 "nbformat": 4,
 "nbformat_minor": 1
}
