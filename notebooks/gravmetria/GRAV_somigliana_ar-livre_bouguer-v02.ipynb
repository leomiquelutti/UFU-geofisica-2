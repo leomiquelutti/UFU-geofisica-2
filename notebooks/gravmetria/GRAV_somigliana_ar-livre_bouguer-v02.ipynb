{
 "cells": [
  {
   "cell_type": "markdown",
   "metadata": {},
   "source": [
    "All content can be freely used and adapted under the terms of the \n",
    "[Creative Commons Attribution 4.0 International License](http://creativecommons.org/licenses/by/4.0/).\n",
    "\n",
    "![Creative Commons License](https://i.creativecommons.org/l/by/4.0/88x31.png)\n",
    "\n",
    "Agradecimentos especiais ao [Leonardo Uieda](www.leouieda.com)"
   ]
  },
  {
   "cell_type": "markdown",
   "metadata": {},
   "source": [
    "Esse documento que você está usando é um [Jupyter notebook](http://jupyter.org/). É um documento interativo que mistura texto (como esse), código (como abaixo), e o resultado de executar o código (números, texto, figuras, videos, etc)."
   ]
  },
  {
   "cell_type": "markdown",
   "metadata": {},
   "source": [
    "# Interpolação, mapas e a gravidade da Terra"
   ]
  },
  {
   "cell_type": "markdown",
   "metadata": {},
   "source": [
    "## Objetivos\n",
    "\n",
    "* Entender a influência da interpolação na geração de mapas de dados geofísicos\n",
    "* Visualizar as variações geográficas da gravidade da Terra\n",
    "* Entender como a escala de cores utilizada nos mapas influencia nossa interpretação\n",
    "* Aprender quais são os fatores que devem ser considerados quando visualizamos um dado em mapa"
   ]
  },
  {
   "cell_type": "markdown",
   "metadata": {},
   "source": [
    "## Instruções\n",
    "\n",
    "O notebook te fornecerá exemplos interativos que trabalham os temas abordados no questionário. Utilize esses exemplos para responder as perguntas.\n",
    "\n",
    "As células com números ao lado, como `In [1]:`, são código [Python](http://python.org/). Algumas dessas células não produzem resultado e servem de preparação para os exemplos interativos. Outras, produzem gráficos interativos. **Você deve executar todas as células, uma de cada vez**, mesmo as que não produzem gráficos.\n",
    "\n",
    "Para executar uma célula, clique em cima dela e aperte `Shift + Enter`. O foco (contorno verde ou cinza em torno da célula) deverá passar para a célula abaixo. Para rodá-la, aperte `Shift + Enter` novamente e assim por diante. Você pode executar células de texto que não acontecerá nada."
   ]
  },
  {
   "cell_type": "markdown",
   "metadata": {},
   "source": [
    "## Preparação\n",
    "\n",
    "Exectute as células abaixo para carregar as componentes necessárias para nossa prática. Vamos utilizar várias *bibliotecas*, inclusive uma de geofísica chamada [Fatiando a Terra](http://www.fatiando.org)."
   ]
  },
  {
   "cell_type": "code",
   "execution_count": null,
   "metadata": {},
   "outputs": [],
   "source": [
    "%matplotlib inline\n",
    "from __future__ import division\n",
    "import numpy as np\n",
    "import matplotlib.pyplot as plt\n",
    "from mpl_toolkits.basemap import Basemap\n",
    "import ipywidgets as widgets\n",
    "from IPython.display import display\n",
    "import seaborn\n",
    "from fatiando import utils, gridder\n",
    "import fatiando\n",
    "from icgem import load_icgem_gdf, down_sample"
   ]
  },
  {
   "cell_type": "markdown",
   "metadata": {},
   "source": [
    "## Interpolação"
   ]
  },
  {
   "cell_type": "markdown",
   "metadata": {},
   "source": [
    "O melhor jeito de entendermos o efeito da interpolação é fabricando alguns dados fictícios (sintéticos).\n",
    "Assim, podemos gerar os dados tanto em pontos aleatórios quanto em um grid regular.\n",
    "Isso nos permite comparar os resultados da interpolação com o *verdadeiro*. Nosso verdadeiro será um conjunto de dados medidos em um grid regular. Como se tivéssemos ido ao campo e medido em um grid regular."
   ]
  },
  {
   "cell_type": "markdown",
   "metadata": {},
   "source": [
    "Rode a célula abaixo para gerar os dados em pontos aleatórios e em um grid regular."
   ]
  },
  {
   "cell_type": "code",
   "execution_count": null,
   "metadata": {},
   "outputs": [],
   "source": [
    "area = (-5000., 5000., -5000., 5000.)\n",
    "shape = (100, 100)\n",
    "xp, yp = gridder.scatter(area, 100, seed=6)\n",
    "x, y = [i.reshape(shape) for i in gridder.regular(area, shape)]\n",
    "aletatorio = 50*utils.gaussian2d(xp, yp, 10000, 1000, angle=45)\n",
    "regular = 50*utils.gaussian2d(x, y, 10000, 1000, angle=45).reshape(shape)"
   ]
  },
  {
   "cell_type": "markdown",
   "metadata": {},
   "source": [
    "Rode as duas células abaixo para gerar um gráfico interativo. Nesse gráfico você poderá controlar:\n",
    "\n",
    "* O número de pontos (em x e y) do grid utilizado na interpolação (`num_pontos`)\n",
    "* O método de interpolação utilizado (`metodo`). Pode ser interpolação cúbica ou linear.\n",
    "* Mostrar ou não os pontos de medição aleatórios no mapa interpolado.\n",
    "\n",
    "**Repare no que acontece com as bordas do mapa e onde não há observações**."
   ]
  },
  {
   "cell_type": "code",
   "execution_count": null,
   "metadata": {},
   "outputs": [],
   "source": [
    "def interpolacao(num_pontos, metodo, pontos_medidos):\n",
    "    fig, axes = plt.subplots(1, 2, figsize=(14, 6))\n",
    "    ishape = (num_pontos, num_pontos)\n",
    "    tmp = gridder.interp(yp, xp, aletatorio, ishape, area=area, algorithm=metodo, extrapolate=True)\n",
    "    yi, xi, interp = [i.reshape(ishape) for i in tmp]\n",
    "    ranges = np.abs([interp.min(), interp.max()]).max()\n",
    "    kwargs = dict(cmap=\"RdBu_r\", vmin=-ranges, vmax=ranges)\n",
    "    ax = axes[0]\n",
    "    ax.set_title(u'Pontos medidos')\n",
    "    ax.set_aspect('equal')\n",
    "    tmp = ax.scatter(yp*0.001, xp*0.001, s=80, c=aletatorio, **kwargs)\n",
    "    plt.colorbar(tmp, ax=ax, aspect=50, pad=0.01)\n",
    "    ax.set_xlabel('y (km)')\n",
    "    ax.set_ylabel('x (km)')\n",
    "    ax.set_xlim(-5, 5)\n",
    "    ax.set_ylim(-5, 5)\n",
    "    plt.tight_layout(pad=0)\n",
    "    ax = axes[1]\n",
    "    ax.set_title(u'Interpolado')\n",
    "    ax.set_aspect('equal')\n",
    "    tmp = ax.contourf(yi*0.001, xi*0.001, interp, 40, **kwargs)\n",
    "    plt.colorbar(tmp, ax=ax, aspect=50, pad=0.01)\n",
    "    if pontos_medidos:\n",
    "        ax.plot(yp*0.001, xp*0.001, '.k')\n",
    "    ax.set_xlabel('y (km)')\n",
    "    ax.set_ylabel('x (km)')\n",
    "    ax.set_xlim(-5, 5)\n",
    "    ax.set_ylim(-5, 5)\n",
    "    plt.tight_layout(pad=0)"
   ]
  },
  {
   "cell_type": "code",
   "execution_count": null,
   "metadata": {},
   "outputs": [],
   "source": [
    "w = widgets.interactive(interpolacao, num_pontos=(5, 100, 5), metodo=['cubic', 'linear'], pontos_medidos=False)\n",
    "display(w)"
   ]
  },
  {
   "cell_type": "markdown",
   "metadata": {},
   "source": [
    "Vamos verificar se alguma das combinações chegou perto do resultado *verdadeiro*.\n",
    "\n",
    "Rode a célula abaixo para gerar um gráfico dos dados verdadeiros (gerados em um grid regular). Esse deveria ser o resultado observado se a interpolação fosse perfeita."
   ]
  },
  {
   "cell_type": "code",
   "execution_count": null,
   "metadata": {},
   "outputs": [],
   "source": [
    "fig, ax = plt.subplots(1, 1, figsize=(7, 6))\n",
    "ranges = np.abs([regular.min(), regular.max()]).max()\n",
    "kwargs = dict(cmap=\"RdBu_r\", vmin=-ranges, vmax=ranges)\n",
    "ax.set_title(u'Verdadeiro')\n",
    "ax.set_aspect('equal')\n",
    "tmp = ax.contourf(y*0.001, x*0.001, regular, 40, **kwargs)\n",
    "plt.colorbar(tmp, ax=ax, aspect=50, pad=0.01)\n",
    "ax.plot(yp*0.001, xp*0.001, '.k')\n",
    "ax.set_xlabel('y (km)')\n",
    "ax.set_ylabel('x (km)')\n",
    "plt.tight_layout(pad=0)"
   ]
  },
  {
   "cell_type": "markdown",
   "metadata": {},
   "source": [
    "# Gravidade do mundo"
   ]
  },
  {
   "cell_type": "markdown",
   "metadata": {},
   "source": [
    "Vamos visualizar como a gravidade da Terra varia geograficamente. Os dados da gravidade do mundo foram baixados de http://icgem.gfz-potsdam.de/ICGEM/potato/Service.html usando o modelo EIGEN-6c3stat.\n",
    "\n",
    "**As medições foram feitas em cima da superfície da Terra**, ou seja, acompanhando a topografia."
   ]
  },
  {
   "cell_type": "markdown",
   "metadata": {},
   "source": [
    "Rode as células abaixo para carregar os dados."
   ]
  },
  {
   "cell_type": "code",
   "execution_count": null,
   "metadata": {},
   "outputs": [],
   "source": [
    "dados = load_icgem_gdf('data/eigen-6c3stat-0_5-mundo.gdf')"
   ]
  },
  {
   "cell_type": "code",
   "execution_count": null,
   "metadata": {},
   "outputs": [],
   "source": [
    "lat, lon, grav = dados['latitude'], dados['longitude'], dados['gravity_earth']"
   ]
  },
  {
   "cell_type": "markdown",
   "metadata": {},
   "source": [
    "Vamos fazer um mapa da gravidade utilizando a [projeção Mollweid](http://en.wikipedia.org/wiki/Map_projection). Esses dados estão em mGal: 1 mGal = 10⁻⁵ m/s². \n",
    "\n",
    "Rode as duas células abaixo para gerar o gráfico (isso pode demorar um pouco)."
   ]
  },
  {
   "cell_type": "code",
   "execution_count": null,
   "metadata": {},
   "outputs": [],
   "source": [
    "bm = Basemap(projection='moll', lon_0=0, resolution='c')\n",
    "x, y = bm(lon, lat)"
   ]
  },
  {
   "cell_type": "code",
   "execution_count": null,
   "metadata": {},
   "outputs": [],
   "source": [
    "plt.figure(figsize=(18, 10))\n",
    "tmp = bm.contourf(x, y, grav, 100, tri=True, cmap='Reds')\n",
    "plt.colorbar(orientation='horizontal', pad=0.01, aspect=50, shrink=0.5).set_label('mGal')\n",
    "plt.title(\"Gravidade medida na superficie da Terra\", fontsize=16)"
   ]
  },
  {
   "cell_type": "markdown",
   "metadata": {},
   "source": [
    "## Escala de cor\n",
    "\n",
    "A escala de cores que utilizamos para mapear os valores pode ter um impacto grande na nossa interpretação dos resultados. Abaixo, veremos como o nosso dado de gravidade mundial fica quando utilizamos diferentes escalas de cor.\n",
    "\n",
    "As escalas podem ser divididas em 3 categorias:\n",
    "\n",
    "* lineares: as cores variam de um tom claro (geralmente branco) a uma cor (por exemplo, vermelho) de maneira linear\n",
    "* divergente: as cores variam de uma cor escura, passando por um tom claro (geralmente branco), e depois para outra cor escura.\n",
    "* raindow ou qualitativos: as cores variam sem um padrão de intensidade claro. Podem ser as cores do arco-íris ou outra combinação.\n",
    "\n",
    "Nas escalas lineares e divergentes, as cores sempre variam de baixa intensidade para alta intensidade (e vice-versa para escalas divergentes)."
   ]
  },
  {
   "cell_type": "markdown",
   "metadata": {},
   "source": [
    "Rode as células abaixo para gerar um mapa interativo da gravidade mundial. Você poderá controlar qual escala de cor você quer usar. Experimente com elas e veja como elas afetam sua percepção.\n",
    "\n",
    "**Para pensar**: Como isso pode afetar alguem que é [daltônico](https://pt.wikipedia.org/wiki/Daltonismo)?"
   ]
  },
  {
   "cell_type": "code",
   "execution_count": null,
   "metadata": {},
   "outputs": [],
   "source": [
    "def grav_mundial(escala_de_cor):\n",
    "    plt.figure(figsize=(18, 10))\n",
    "    tmp = bm.contourf(x, y, grav, 100, tri=True, cmap=escala_de_cor)\n",
    "    plt.colorbar(orientation='horizontal', pad=0.01, aspect=50, shrink=0.5).set_label('mGal')\n",
    "    plt.title(\"Escala de cor: {}\".format(escala_de_cor), fontsize=16)  "
   ]
  },
  {
   "cell_type": "code",
   "execution_count": null,
   "metadata": {},
   "outputs": [],
   "source": [
    "escalas = 'Reds Blues Greys YlOrBr RdBu BrBG PRGn Dark2 jet ocean rainbow gnuplot'.split()\n",
    "w = widgets.interactive(grav_mundial, escala_de_cor=escalas)\n",
    "display(w)"
   ]
  },
  {
   "cell_type": "markdown",
   "metadata": {},
   "source": [
    "# A Terra Normal e o distúrbio da gravidade"
   ]
  },
  {
   "cell_type": "markdown",
   "metadata": {},
   "source": [
    "## Objetivos\n",
    "\n",
    "* Aprender a calcular a gravidade da Terra Normal e o distúrbio da gravidade\n",
    "* Gerar mapas do distúrbio para o mundo todo\n",
    "* Entender a relação entre o distúrbio e a isostasia\n",
    "* Observar o estado de equilíbrio isostático em diferentes regiões do planeta"
   ]
  },
  {
   "cell_type": "markdown",
   "metadata": {},
   "source": [
    "## A Terra Normal"
   ]
  },
  {
   "cell_type": "markdown",
   "metadata": {},
   "source": [
    "\"Terra Normal\" é o nome que damos ao elipsóide de referência utilizado para o cálculo de anomalias da gravidade. Um elipsóide geralmente utilizado é o [WGS84](http://en.wikipedia.org/wiki/World_Geodetic_System). \n",
    "\n",
    "Existem fórmulas para calcular a gravidade (lembre-se que gravidade = gravitação + centrífuga) de um elipsóide em qualquer ponto fora dele. Porém, essas fórmulas são mais complicadas do que queremos para essa aula. Uma alternativa é utilizar a fórmula de  Somigliana:\n",
    "\n",
    "$$\n",
    "\\gamma(\\varphi) = \\frac{a \\gamma_a \\cos^2 \\varphi + b \\gamma_b \\sin^2 \\varphi}{\\sqrt{a^2 \\cos^2 \\varphi + b^2 \\sin^2 \\varphi}}\n",
    "$$\n",
    "\n",
    "$\\gamma$ é a gravidade do elipsóide calculada na latitude $\\varphi$ e **sobre a superfície do elipsóide** (ou seja, altitude zero).\n",
    "$a$ e $b$ são os eixos maior e menor do elipsóide, $\\gamma_a$ e $\\gamma_b$ são a gravidade do elipsóide no equador e nos polos. Os valores de $a$, $b$, $\\gamma_a$ e $\\gamma_b$ são tabelados para cada elipsóide. Os valores abaixo são referentes ao WGS84:\n",
    "\n",
    "<table>\n",
    "<tr> <th> a </th> <td> 6378137 </td> <td> metros </td> </tr>\n",
    "<tr> <th> b </th> <td> 6356752.3142 </td> <td> metros </td> </tr>\n",
    "<tr> <th> $\\gamma_a$ </th> <td> 9.7803253359 </td> <td> m/s² </td> </tr>\n",
    "<tr> <th> $\\gamma_b$ </th> <td> 9.8321849378 </td> <td> m/s² </td> </tr>\n",
    "</table>\n",
    "\n",
    "Os valores foram retirados do livro:\n",
    "\n",
    "> Hofmann-Wellenhof, B., and H. Moritz (2006), Physical Geodesy, 2nd, corr. ed. 2006 edition., Springer, Wien ; New York."
   ]
  },
  {
   "cell_type": "markdown",
   "metadata": {},
   "source": [
    "### Carregando os dados e fazendo um mapa"
   ]
  },
  {
   "cell_type": "markdown",
   "metadata": {},
   "source": [
    "Depois de calcular os valores acima, precisamos carregá-los aqui no notebook para gerarmos os mapas.\n",
    "\n",
    "Primeiro, coloque o nome do seu arquivo `.csv` abaixo e execute a célula."
   ]
  },
  {
   "cell_type": "code",
   "execution_count": null,
   "metadata": {},
   "outputs": [],
   "source": [
    "arquivo_dados = 'data/somigliana.csv'"
   ]
  },
  {
   "cell_type": "markdown",
   "metadata": {},
   "source": [
    "Agora, execute as células abaixo para carregar os dados e gerar um mapa com os valores que você calculou."
   ]
  },
  {
   "cell_type": "code",
   "execution_count": null,
   "metadata": {},
   "outputs": [],
   "source": [
    "lon, lat, gamma = np.loadtxt(arquivo_dados, delimiter=',', unpack=True, skiprows=0, usecols=[0, 1, -1])"
   ]
  },
  {
   "cell_type": "code",
   "execution_count": null,
   "metadata": {},
   "outputs": [],
   "source": [
    "bm = Basemap(projection='moll', lon_0=0, resolution='c')\n",
    "x, y = bm(lon, lat)"
   ]
  },
  {
   "cell_type": "code",
   "execution_count": null,
   "metadata": {},
   "outputs": [],
   "source": [
    "plt.figure(figsize=(18, 10))\n",
    "tmp = bm.contourf(x, y, gamma, 100, tri=True, cmap='Reds')\n",
    "plt.colorbar(orientation='horizontal', pad=0.01, aspect=50, shrink=0.5).set_label('mGal')\n",
    "plt.title(r\"Gravidade da Terra Normal ($\\gamma$)\", fontsize=16)"
   ]
  },
  {
   "cell_type": "markdown",
   "metadata": {},
   "source": [
    "### Cáculo da Terra Normal no ponto de observação ($\\gamma_P$)"
   ]
  },
  {
   "cell_type": "markdown",
   "metadata": {},
   "source": [
    "A fórmula de Somgliana nos dá a gravidade da Terra Normal calculada sobre o elipsóide. Nós precisamos de $\\gamma$ calculado no ponto onde medimos a gravidade (P) para calcular o distúrbio. Para obter $\\gamma_P$, nós podemos utilizar a **correção de ar-livre**. Essa correção nos dá uma approximação de $\\gamma_P$:\n",
    "\n",
    "$$ \\gamma_P \\approx \\gamma - 0.3086 H $$\n",
    "\n",
    "em que $H$ é a altitude em relação ao elipsóide (altitude geométrica) em **metros**. Lembrando que a correção é feita em **mGal**.\n",
    "\n",
    "Rode as células abaixo para carregar os dados de $\\gamma_P$ e gerar um mapa."
   ]
  },
  {
   "cell_type": "code",
   "execution_count": null,
   "metadata": {},
   "outputs": [],
   "source": [
    "arquivo_dados = 'data/freeair.csv'"
   ]
  },
  {
   "cell_type": "code",
   "execution_count": null,
   "metadata": {},
   "outputs": [],
   "source": [
    "gamma_p = np.loadtxt(arquivo_dados, delimiter=',', unpack=True, skiprows=0, usecols=[-1])"
   ]
  },
  {
   "cell_type": "code",
   "execution_count": null,
   "metadata": {},
   "outputs": [],
   "source": [
    "plt.figure(figsize=(18, 10))\n",
    "tmp = bm.contourf(x, y, gamma_p, 100, tri=True, cmap='Reds')\n",
    "plt.colorbar(orientation='horizontal', pad=0.01, aspect=50, shrink=0.5).set_label('mGal')\n",
    "plt.title(r\"Gravidade da Terra Normal em P ($\\gamma_P$)\", fontsize=16)"
   ]
  },
  {
   "cell_type": "markdown",
   "metadata": {},
   "source": [
    "## Distúrbio da gravidade"
   ]
  },
  {
   "cell_type": "markdown",
   "metadata": {},
   "source": [
    "O distúrbio da gravidade é definido como:\n",
    "\n",
    "$$ \\delta = g_P - \\gamma_P$$\n",
    "\n",
    "em que $g_P$ é a gravidade medida no ponto P.\n",
    "\n",
    "Rode as células abaixo para carregar os valores calculados e gerar o mapa."
   ]
  },
  {
   "cell_type": "code",
   "execution_count": null,
   "metadata": {},
   "outputs": [],
   "source": [
    "arquivo_dados = 'data/residual.csv'"
   ]
  },
  {
   "cell_type": "code",
   "execution_count": null,
   "metadata": {},
   "outputs": [],
   "source": [
    "disturbio = np.loadtxt(arquivo_dados, delimiter=',', unpack=True, skiprows=0, usecols=[-1])"
   ]
  },
  {
   "cell_type": "code",
   "execution_count": null,
   "metadata": {},
   "outputs": [],
   "source": [
    "def varia_escala(escala_de_cor):\n",
    "    plt.figure(figsize=(18, 10))\n",
    "    ranges = np.abs([disturbio.min(), disturbio.max()]).max()\n",
    "    tmp = bm.contourf(x, y, disturbio, 100, tri=True, cmap=escala_de_cor, vmin=-ranges, vmax=ranges)\n",
    "    plt.colorbar(orientation='horizontal', pad=0.01, aspect=50, shrink=0.5).set_label('mGal')\n",
    "    plt.title(u\"Distúrbio da gravidade (escala de cor '{}')\".format(escala_de_cor), fontsize=16)"
   ]
  },
  {
   "cell_type": "code",
   "execution_count": null,
   "metadata": {},
   "outputs": [],
   "source": [
    "escalas = 'Reds Blues Greys YlOrBr RdBu_r BrBG PRGn Dark2 jet ocean rainbow gnuplot'.split()\n",
    "w = widgets.interactive(varia_escala, escala_de_cor=escalas)\n",
    "display(w)"
   ]
  },
  {
   "cell_type": "markdown",
   "metadata": {},
   "source": [
    "# Isostasia e anomalia Bouguer"
   ]
  },
  {
   "cell_type": "markdown",
   "metadata": {},
   "source": [
    "## Objetivos\n",
    "\n",
    "* Visualizar os mecanismos de compensação isostática de Airy e Pratt\n",
    "* Cacular e visualizar a anomalia Bouguer para o mundo todo"
   ]
  },
  {
   "cell_type": "markdown",
   "metadata": {},
   "source": [
    "## Anomalia Bouguer"
   ]
  },
  {
   "cell_type": "markdown",
   "metadata": {},
   "source": [
    "Na prática passada, vocês calcularam o distúrbio da gravidade ($\\delta$) removendo a gravidade da Terra Normal calculada no ponto de observação ($\\gamma_P$). Vimos que o distúrbio nos indica o estado de equilíbrio isostático da região: se $\\delta$ for pequeno e positivo a região encontra-se em equilíbro, caso contrário não está. A falta de equilíbrio isostático sugere que existem forças externas erguendo ou abaixando a topografia.\n",
    "\n",
    "Se quisermos ver o efeito gravitacional de coisas abaixo da topografia (Moho, bacias sedimentares e outras heterogeneidades), precisamos **remover o efeito gravitacional da topografia** do distúrbio. Para isso, precisamos calcular a atração gravitacional da massa topográfica (vamos chamar isso de $g_t$). A **anomalia Bouguer** é o distúrbio da gravidade menos o efeito da topografia:\n",
    "\n",
    "$$\\Delta g_{bg} = \\delta - g_t$$\n",
    "\n",
    "Um jeito simples de calcular $g_t$ é através de uma aproximação. Nesse caso, vamos aproximar toda a massa topográfica em baixo do ponto onde medimos a gravidade (P) por um platô infinito (o *platô de Bouguer*). Se a topografia abaixo do ponto P tem $H$ metros de **altitude em relação ao elipsóide**, podemos aproximar $g_t$ por:\n",
    "\n",
    "$$g_t \\approx 2 \\pi G \\rho H$$\n",
    "\n",
    "em que $\\rho$ é a densidade da topografia e $G$ é a contante gravitacional.\n",
    "\n",
    "Nos oceanos, não temos topografia acima do elipsóide. Porém, temos uma camada de água que não foi removida devidamente com a Terra Normal ($\\gamma_P$). Podemos utilizar a aproximação do platô de Bouguer para calcular o efeito gravitacional da camada de água e removê-la do distúrbio. Assim, teremos a anomalia Bouguer para regiões continentais e oceânicas."
   ]
  },
  {
   "cell_type": "markdown",
   "metadata": {},
   "source": [
    "### Calculando a anomalia Bouguer"
   ]
  },
  {
   "cell_type": "markdown",
   "metadata": {},
   "source": [
    "Para fazer os cálculos, vamos precisar o valor da altitude topográfica. Nos continentes, essa altitude é a mesma da altitude na qual os dados foram medidos. Já nos oceanos, a altitude de medição é zero (superfície da água). O que precisamos realmente é da batimetria nos oceanos. Por sorte, existem modelos digitais de terreno, como o [ETOPO1](http://www.ngdc.noaa.gov/mgg/global/global.html) que nos dão topografia nos continentes e batimetria nos oceanos. O arquivo `data/etopo1-0_5-mundo.gdf` contem os dados de topografia do ETOPO1 calculado nos mesmo pontos em que a gravidade foi medida. \n",
    "\n",
    "**Dicas** para calcular o efeito gravitacional da topografia utilizando o platô de Bouguer.\n",
    "\n",
    "* Utilize a densidade $\\rho_c = 2670\\ kg/m^3$ para a topografia. \n",
    "* Nos oceanos, utilize a densidade $\\rho_c$ para a crosta do elipsóide e $\\rho_a = 1040\\ kg/m^3$ para a água do mar.\n",
    "* Utilize o valor de $G = 0.00000000006673\\ m^3 kg^{-1} s^{-1}$\n",
    "* O valor calculado estará em m/s². Converta para mGal = 100000 m/s²"
   ]
  },
  {
   "cell_type": "markdown",
   "metadata": {},
   "source": [
    "### Carregando os dados e fazendo um mapa\n",
    "\n",
    "Depois de calcular os valores acima, precisamos carregá-los aqui no notebook para gerarmos os mapas.\n",
    "\n",
    "Primeiro, coloque o nome do seu arquivo `.csv` abaixo e execute a célula. **O nome deve ser exato**. Dica: apague o nome do arquivo e aperte Tab."
   ]
  },
  {
   "cell_type": "code",
   "execution_count": null,
   "metadata": {},
   "outputs": [],
   "source": [
    "arquivo_dados = 'data/bouguer.csv'"
   ]
  },
  {
   "cell_type": "markdown",
   "metadata": {},
   "source": [
    "Agora, execute as células abaixo para carregar os dados e gerar um mapa com os valores que você calculou."
   ]
  },
  {
   "cell_type": "code",
   "execution_count": null,
   "metadata": {},
   "outputs": [],
   "source": [
    "lon, lat, bouguer = np.loadtxt(arquivo_dados, delimiter=',', unpack=True, skiprows=0, usecols=[0, 1, -1])"
   ]
  },
  {
   "cell_type": "code",
   "execution_count": null,
   "metadata": {},
   "outputs": [],
   "source": [
    "bm = Basemap(projection='moll', lon_0=0, resolution='c')\n",
    "x, y = bm(lon, lat)"
   ]
  },
  {
   "cell_type": "code",
   "execution_count": null,
   "metadata": {},
   "outputs": [],
   "source": [
    "plt.figure(figsize=(18, 10))\n",
    "ranges = np.abs([bouguer.min(), bouguer.max()]).max()\n",
    "tmp = bm.contourf(x, y, bouguer, 100, tri=True, cmap='RdBu_r', vmin=-ranges, vmax=ranges)\n",
    "plt.colorbar(orientation='horizontal', pad=0.01, aspect=50, shrink=0.5).set_label('mGal')\n",
    "plt.title(r\"Anomalia Bouguer\", fontsize=16)"
   ]
  },
  {
   "cell_type": "markdown",
   "metadata": {},
   "source": [
    "# Inversão de dados de uma bacia sedimentar 2D poligonal\n",
    "\n",
    "## Objetivos\n",
    "\n",
    "* Entender melhor como funciona a inversão de dados"
   ]
  },
  {
   "cell_type": "markdown",
   "metadata": {},
   "source": [
    "A célula abaixo _prepara_ o ambiente"
   ]
  },
  {
   "cell_type": "code",
   "execution_count": null,
   "metadata": {},
   "outputs": [],
   "source": [
    "from fatiando.inversion import Smoothness1D\n",
    "from fatiando.gravmag.basin2d import PolygonalBasinGravity\n",
    "from fatiando.gravmag import talwani\n",
    "from fatiando.mesher import Polygon\n",
    "from fatiando.vis import mpl\n",
    "from fatiando import utils\n",
    "import numpy as np"
   ]
  },
  {
   "cell_type": "markdown",
   "metadata": {},
   "source": [
    "A célula abaixo cria dados sintéticos para testar a inversão de dados. O resultado será um polígono."
   ]
  },
  {
   "cell_type": "code",
   "execution_count": null,
   "metadata": {},
   "outputs": [],
   "source": [
    "noise = 5"
   ]
  },
  {
   "cell_type": "code",
   "execution_count": null,
   "metadata": {},
   "outputs": [],
   "source": [
    "# Make some synthetic data to test the inversion\n",
    "# The model will be a polygon.\n",
    "# Reverse x because vertices must be clockwise.\n",
    "xs = np.linspace(0, 100000, 100)[::-1]\n",
    "depths = (-1e-15*(xs - 50000)**4 + 8000 -\n",
    "          3000*np.exp(-(xs - 70000)**2/(10000**2)))\n",
    "depths -= depths.min()  # Reduce depths to zero\n",
    "props = {'density': -300}\n",
    "model = Polygon(np.transpose([xs, depths]), props)\n",
    "x = np.linspace(0, 100000, 100)\n",
    "z = -100*np.ones_like(x)\n",
    "data = utils.contaminate(talwani.gz(x, z, [model]), noise, seed=0)"
   ]
  },
  {
   "cell_type": "markdown",
   "metadata": {},
   "source": [
    "A célula abaixo executa a inversão, dada as condições iniciais descritas em `initial`"
   ]
  },
  {
   "cell_type": "code",
   "execution_count": null,
   "metadata": {},
   "outputs": [],
   "source": [
    "# Make the solver using smoothness regularization and run the inversion\n",
    "misfit = PolygonalBasinGravity(x, z, data, 50, props, top=0)\n",
    "regul = Smoothness1D(misfit.nparams)\n",
    "solver = misfit + 1e-4*regul\n",
    "# This is a non-linear problem so we need to pick an initial estimate\n",
    "initial = 3000*np.ones(misfit.nparams)\n",
    "solver.config('levmarq', initial=initial).fit()"
   ]
  },
  {
   "cell_type": "markdown",
   "metadata": {},
   "source": [
    "A célula abaixo cria a imagem da bacia e mostra o ajuste dos dados"
   ]
  },
  {
   "cell_type": "code",
   "execution_count": null,
   "metadata": {},
   "outputs": [],
   "source": [
    "%matplotlib inline\n",
    "mpl.figure()\n",
    "mpl.subplot(2, 1, 1)\n",
    "mpl.plot(x, data, 'ok', label='observed')\n",
    "mpl.plot(x, solver[0].predicted(), '-r', linewidth=2, label='predicted')\n",
    "mpl.legend()\n",
    "ax = mpl.subplot(2, 1, 2)\n",
    "mpl.polygon(model, fill='gray', alpha=0.5, label='True')\n",
    "# The estimate_ property of our solver gives us the estimate basin as a polygon\n",
    "# So we can directly pass it to plotting and forward modeling functions\n",
    "mpl.polygon(solver.estimate_, style='o-r', label='Estimated')\n",
    "ax.invert_yaxis()\n",
    "mpl.legend()\n",
    "mpl.show()"
   ]
  }
 ],
 "metadata": {
  "kernelspec": {
   "display_name": "Python 2",
   "language": "python",
   "name": "python2"
  },
  "language_info": {
   "codemirror_mode": {
    "name": "ipython",
    "version": 2
   },
   "file_extension": ".py",
   "mimetype": "text/x-python",
   "name": "python",
   "nbconvert_exporter": "python",
   "pygments_lexer": "ipython2",
   "version": "2.7.15"
  }
 },
 "nbformat": 4,
 "nbformat_minor": 2
}
