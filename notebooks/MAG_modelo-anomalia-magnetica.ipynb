{
 "cells": [
  {
   "cell_type": "markdown",
   "metadata": {},
   "source": [
    "**Course website**: https://github.com/leomiquelutti/UFU-geofisica-1\n",
    "\n",
    "**Note**: This notebook is part of the course \"Geofísica 1\" of Geology program of the \n",
    "[Universidade Federal de Uberlândia](http://www.ufu.br/). \n",
    "All content can be freely used and adapted under the terms of the \n",
    "[Creative Commons Attribution 4.0 International License](http://creativecommons.org/licenses/by/4.0/).\n",
    "\n",
    "![Creative Commons License](https://i.creativecommons.org/l/by/4.0/88x31.png)\n",
    "\n",
    "Agradecimentos especiais ao [Leonardo Uieda](www.leouieda.com)"
   ]
  },
  {
   "cell_type": "markdown",
   "metadata": {},
   "source": [
    "Esse documento que você está usando é um [Jupyter notebook](http://jupyter.org/). É um documento interativo que mistura texto (como esse), código (como abaixo), e o resultado de executar o código (números, texto, figuras, videos, etc)."
   ]
  },
  {
   "cell_type": "markdown",
   "metadata": {},
   "source": [
    "# Magnetometria - modelando a anomalia magnética de campo total gerada por esferas\n",
    "\n",
    "## Objetivos\n",
    "\n",
    "* Visualizar a anomalia magnética gerada por esferas.\n",
    "* Verificar como os valores da anomalia variam com a dimensão do corpo.\n",
    "* Verificar como os valores da anomalia variam com a profundidade do corpo.\n",
    "* Verificar como os valores da anomalia variam com a magnetização do corpo, lembrando que esta é uma grandeza vetorial."
   ]
  },
  {
   "cell_type": "markdown",
   "metadata": {},
   "source": [
    "## Instruções\n",
    "\n",
    "O notebook te fornecerá exemplos interativos que trabalham os temas abordados no questionário. Utilize esses exemplos para responder as perguntas.\n",
    "\n",
    "As células com números ao lado, como `In [1]:`, são código [Python](http://python.org/). Algumas dessas células não produzem resultado e servem de preparação para os exemplos interativos. Outras, produzem gráficos interativos. **Você deve executar todas as células, uma de cada vez**, mesmo as que não produzem gráficos.\n",
    "\n",
    "Para executar uma célula, clique em cima dela e aperte `Shift + Enter`. O foco (contorno verde ou cinza em torno da célula) deverá passar para a célula abaixo. Para rodá-la, aperte `Shift + Enter` novamente e assim por diante. Você pode executar células de texto que não acontecerá nada."
   ]
  },
  {
   "cell_type": "code",
   "execution_count": null,
   "metadata": {},
   "outputs": [],
   "source": [
    "from fatiando import mesher, gridder, utils\n",
    "from fatiando.gravmag import sphere, prism\n",
    "from fatiando.mesher import Polygon\n",
    "from fatiando.vis import mpl\n",
    "import numpy as np"
   ]
  },
  {
   "cell_type": "code",
   "execution_count": null,
   "metadata": {},
   "outputs": [],
   "source": [
    "def prism2polygon(prism):\n",
    "    vertices = [[prism.x1, prism.y1],\n",
    "               [prism.x2, prism.y1],\n",
    "               [prism.x2, prism.y2],\n",
    "               [prism.x1, prism.y2]]\n",
    "    return vertices\n",
    "\n",
    "def sphere2polygon(sphere):\n",
    "    vertices = np.empty([360,2])\n",
    "    for i in range(360):\n",
    "        coord = [sphere.x + sphere.radius*np.cos(np.pi*i/180), sphere.y + sphere.radius*np.sin(np.pi*i/180)]\n",
    "        vertices[i] = coord\n",
    "    return vertices"
   ]
  },
  {
   "cell_type": "markdown",
   "metadata": {},
   "source": [
    "### Inclinação e declinação\n",
    "A célula abaixo contém valores de inclinação e declinação definidos pelo usuário. **Altere-os e execute novamente o programa para observar como o resultado se comporta**."
   ]
  },
  {
   "cell_type": "code",
   "execution_count": null,
   "metadata": {},
   "outputs": [],
   "source": [
    "# Set the inclination and declination of the regional field\n",
    "inc = -30\n",
    "dec = 15"
   ]
  },
  {
   "cell_type": "markdown",
   "metadata": {},
   "source": [
    "### Modelo\n",
    "A célula abaixo contém o modelo de **esferas** definidos pelo usuário. "
   ]
  },
  {
   "cell_type": "code",
   "execution_count": null,
   "metadata": {},
   "outputs": [],
   "source": [
    "# Create a sphere model\n",
    "modelSphere = [\n",
    "    # One with induced magnetization\n",
    "    mesher.Sphere(0, 2000, 600, 500,\n",
    "                  {'magnetization': utils.ang2vec(5, inc, dec)}),\n",
    "    # and one with remanent\n",
    "    mesher.Sphere(0, -2000, 600, 500,\n",
    "                  {'magnetization': utils.ang2vec(10, 0, -50)})]"
   ]
  },
  {
   "cell_type": "markdown",
   "metadata": {},
   "source": [
    "A célula abaixo contém o modelo de **prismas** definidos pelo usuário.\n",
    "\n",
    "**CUIDADO PARA NÃO SOBREPOR AS ESFERAS E PRISMAS**"
   ]
  },
  {
   "cell_type": "code",
   "execution_count": null,
   "metadata": {},
   "outputs": [],
   "source": [
    "# Create a prism model\n",
    "modelPrism = [\n",
    "    # One with induced magnetization\n",
    "    mesher.Prism(1800, 2200, -1000, 1000, 100, 1100,\n",
    "                  {'magnetization': utils.ang2vec(0, inc, dec)}),\n",
    "    # and one with remanent\n",
    "    mesher.Prism(-2100, -1900, -4000, 4000, 100, 1100,\n",
    "                  {'magnetization': utils.ang2vec(0, 0, -20)})]"
   ]
  },
  {
   "cell_type": "markdown",
   "metadata": {},
   "source": [
    "**Altere-os e execute novamente o programa para observar como o resultado se comporta**. \n",
    "\n",
    "Tente adicionar esferas com parâmetros diferentes, lembrando que \n",
    "\n",
    "`mesher.Sphere(x, y, z, r, {'magnetization': utils.ang2vec(intensity, inclination, declination)})`\n",
    "\n",
    "`mesher.Prism(x1, x2, y1, y2, z1, z2, {'magnetization': utils.ang2vec(intensity, inclination, declination)})`\n",
    "\n",
    "Documentação para `mesher.sphere` se encontra [aqui](https://www.fatiando.org/api/mesher.html#fatiando.mesher.Sphere) e para `mesher.prism` [aqui](https://www.fatiando.org/api/mesher.html#fatiando.mesher.Prism). \n",
    "\n",
    "__Lembre-se__ que para \"desligar\" um corpo do modelo, basta associar o valor `0` no campo `intensity`"
   ]
  },
  {
   "cell_type": "markdown",
   "metadata": {},
   "source": [
    "A célula abaixo define um grid e calcula a anomalia de acordo com os parâmetros do usuário."
   ]
  },
  {
   "cell_type": "code",
   "execution_count": null,
   "metadata": {},
   "outputs": [],
   "source": [
    "# Create a regular grid at 100m height\n",
    "shape = (100, 100)\n",
    "area = (-5000, 5000, -5000, 5000)\n",
    "xp, yp, zp = gridder.regular(area, shape, z=-100)\n",
    "# Calculate the anomaly for a given regional field\n",
    "tf = sphere.tf(xp, yp, zp, modelSphere, inc, dec) + prism.tf(xp, yp, zp, modelPrism, inc, dec)"
   ]
  },
  {
   "cell_type": "markdown",
   "metadata": {},
   "source": [
    "A célula abaixo apenas transforma os prismas e esferas em projeções poligonais para visualização em mapa."
   ]
  },
  {
   "cell_type": "code",
   "execution_count": null,
   "metadata": {},
   "outputs": [],
   "source": [
    "pol = np.empty(modelPrism.__len__() + modelSphere.__len__(), dtype=object)\n",
    "for i in range(modelPrism.__len__()):\n",
    "    pol[i] = Polygon(prism2polygon(modelPrism[i]))\n",
    "for i in range(modelSphere.__len__()):\n",
    "    pol[i + modelPrism.__len__()] = Polygon(sphere2polygon(modelSphere[i]))"
   ]
  },
  {
   "cell_type": "markdown",
   "metadata": {},
   "source": [
    "A célula abaixo cria a imagem da _anomalia de campo total_."
   ]
  },
  {
   "cell_type": "code",
   "execution_count": null,
   "metadata": {},
   "outputs": [],
   "source": [
    "# Plot\n",
    "mpl.figure()\n",
    "mpl.title(\"Total-field anomaly (nT)\")\n",
    "mpl.axis('scaled')\n",
    "mpl.contourf(yp, xp, tf, shape, 15)\n",
    "mpl.colorbar()\n",
    "for i in range(pol.__len__()):\n",
    "    mpl.polygon(pol[i])\n",
    "mpl.xlabel('East y (km)')\n",
    "mpl.ylabel('North x (km)')\n",
    "mpl.m2km()\n",
    "mpl.show()"
   ]
  },
  {
   "cell_type": "code",
   "execution_count": null,
   "metadata": {},
   "outputs": [],
   "source": []
  }
 ],
 "metadata": {
  "kernelspec": {
   "display_name": "Python 2",
   "language": "python",
   "name": "python2"
  },
  "language_info": {
   "codemirror_mode": {
    "name": "ipython",
    "version": 2
   },
   "file_extension": ".py",
   "mimetype": "text/x-python",
   "name": "python",
   "nbconvert_exporter": "python",
   "pygments_lexer": "ipython2",
   "version": "2.7.15"
  }
 },
 "nbformat": 4,
 "nbformat_minor": 1
}
