{
 "cells": [
  {
   "cell_type": "markdown",
   "metadata": {},
   "source": [
    "**Course website**: https://github.com/leomiquelutti/UFU-geofisica-1\n",
    "\n",
    "**Note**: This notebook is part of the course \"Geofísica 1\" of Geology program of the \n",
    "[Universidade Federal de Uberlândia](http://www.ufu.br/). \n",
    "All content can be freely used and adapted under the terms of the \n",
    "[Creative Commons Attribution 4.0 International License](http://creativecommons.org/licenses/by/4.0/).\n",
    "\n",
    "![Creative Commons License](https://i.creativecommons.org/l/by/4.0/88x31.png)\n",
    "\n",
    "Agradecimentos especiais ao [Leonardo Uieda](www.leouieda.com)"
   ]
  },
  {
   "cell_type": "markdown",
   "metadata": {},
   "source": [
    "Esse documento que você está usando é um [Jupyter notebook](http://jupyter.org/). É um documento interativo que mistura texto (como esse), código (como abaixo), e o resultado de executar o código (números, texto, figuras, videos, etc)."
   ]
  },
  {
   "cell_type": "markdown",
   "metadata": {},
   "source": [
    "# Magnetometria - modelando a anomalia magnética de campo total gerada por prismas e esferas\n",
    "\n",
    "## Objetivos\n",
    "\n",
    "* Visualizar a anomalia magnética gerada por esferas.\n",
    "* Verificar como os valores da anomalia variam com a dimensão do corpo.\n",
    "* Verificar como os valores da anomalia variam com a profundidade do corpo.\n",
    "* Verificar como os valores da anomalia variam com a magnetização do corpo, lembrando que esta é uma grandeza vetorial."
   ]
  },
  {
   "cell_type": "markdown",
   "metadata": {},
   "source": [
    "## Instruções\n",
    "\n",
    "O notebook te fornecerá exemplos interativos que trabalham os temas abordados no questionário. Utilize esses exemplos para responder as perguntas.\n",
    "\n",
    "As células com números ao lado, como `In [1]:`, são código [Python](http://python.org/). Algumas dessas células não produzem resultado e servem de preparação para os exemplos interativos. Outras, produzem gráficos interativos. **Você deve executar todas as células, uma de cada vez**, mesmo as que não produzem gráficos.\n",
    "\n",
    "Para executar uma célula, clique em cima dela e aperte `Shift + Enter`. O foco (contorno verde ou cinza em torno da célula) deverá passar para a célula abaixo. Para rodá-la, aperte `Shift + Enter` novamente e assim por diante. Você pode executar células de texto que não acontecerá nada."
   ]
  },
  {
   "cell_type": "code",
   "execution_count": null,
   "metadata": {},
   "outputs": [],
   "source": [
    "from fatiando import mesher, gridder, utils\n",
    "from fatiando.gravmag import sphere, prism, transform\n",
    "from fatiando.mesher import Polygon\n",
    "from fatiando.vis import mpl\n",
    "import numpy as np"
   ]
  },
  {
   "cell_type": "code",
   "execution_count": null,
   "metadata": {},
   "outputs": [],
   "source": [
    "def prism2polygon(prism):\n",
    "    vertices = [[prism.x1, prism.y1],\n",
    "               [prism.x2, prism.y1],\n",
    "               [prism.x2, prism.y2],\n",
    "               [prism.x1, prism.y2]]\n",
    "    return vertices\n",
    "\n",
    "def sphere2polygon(sphere):\n",
    "    vertices = np.empty([360,2])\n",
    "    for i in range(360):\n",
    "        coord = [sphere.x + sphere.radius*np.cos(np.pi*i/180), sphere.y + sphere.radius*np.sin(np.pi*i/180)]\n",
    "        vertices[i] = coord\n",
    "    return vertices"
   ]
  },
  {
   "cell_type": "markdown",
   "metadata": {},
   "source": [
    "### Inclinação e declinação\n",
    "A célula abaixo contém valores de inclinação e declinação definidos pelo usuário. **Altere-os e execute novamente o programa para observar como o resultado se comporta**."
   ]
  },
  {
   "cell_type": "code",
   "execution_count": null,
   "metadata": {},
   "outputs": [],
   "source": [
    "# Set the inclination and declination of the regional field\n",
    "inc = -30\n",
    "dec = 15"
   ]
  },
  {
   "cell_type": "markdown",
   "metadata": {},
   "source": [
    "## Parte 1 - modelo prismas e esferas com magnetização **induzida**."
   ]
  },
  {
   "cell_type": "markdown",
   "metadata": {},
   "source": [
    "### Modelo\n",
    "A célula abaixo contém o modelo de **esferas** definidos pelo usuário. "
   ]
  },
  {
   "cell_type": "code",
   "execution_count": null,
   "metadata": {},
   "outputs": [],
   "source": [
    "# Create a sphere model with induced magnetization\n",
    "modelSphere = [\n",
    "    mesher.Sphere(-2000, -2000, 600, 500,\n",
    "                  {'magnetization': utils.ang2vec(10, inc, dec)}),\n",
    "    mesher.Sphere(4000, 4000, 100, 100,\n",
    "                  {'magnetization': utils.ang2vec(10, inc, dec)})]"
   ]
  },
  {
   "cell_type": "markdown",
   "metadata": {},
   "source": [
    "A célula abaixo contém o modelo de **prismas** definidos pelo usuário.\n",
    "\n",
    "**CUIDADO PARA NÃO SOBREPOR AS ESFERAS E PRISMAS**"
   ]
  },
  {
   "cell_type": "code",
   "execution_count": null,
   "metadata": {},
   "outputs": [],
   "source": [
    "# Create a two-prism model with induced magnetization\n",
    "modelPrism = [\n",
    "    mesher.Prism(2800, 3200, -2000, 2000, 100, 1100,\n",
    "                  {'magnetization': utils.ang2vec(10, inc, dec)}),\n",
    "    mesher.Prism(-4000, 0, 4200, 3800, 100, 1100,\n",
    "                  {'magnetization': utils.ang2vec(10, inc, dec)})]"
   ]
  },
  {
   "cell_type": "markdown",
   "metadata": {},
   "source": [
    "**Altere-os e execute novamente o programa para observar como o resultado se comporta**. \n",
    "\n",
    "Tente adicionar esferas com parâmetros diferentes, lembrando que \n",
    "\n",
    "`mesher.Sphere(x, y, z, r, {'magnetization': utils.ang2vec(intensity, inclination, declination)})`\n",
    "\n",
    "`mesher.Prism(x1, x2, y1, y2, z1, z2, {'magnetization': utils.ang2vec(intensity, inclination, declination)})`\n",
    "\n",
    "Documentação para `mesher.sphere` se encontra [aqui](https://www.fatiando.org/api/mesher.html#fatiando.mesher.Sphere) e para `mesher.prism` [aqui](https://www.fatiando.org/api/mesher.html#fatiando.mesher.Prism). \n",
    "\n",
    "__Lembre-se__ que para \"desligar\" um corpo do modelo, basta associar o valor `0` no campo `intensity`"
   ]
  },
  {
   "cell_type": "markdown",
   "metadata": {},
   "source": [
    "A célula abaixo define um grid e calcula a anomalia de acordo com os parâmetros do usuário."
   ]
  },
  {
   "cell_type": "code",
   "execution_count": null,
   "metadata": {},
   "outputs": [],
   "source": [
    "# Create a regular grid at 100m height\n",
    "shape = (100, 100)\n",
    "area = (-5000, 5000, -5000, 5000)\n",
    "xp, yp, zp = gridder.regular(area, shape, z=-100)\n",
    "# Calculate the anomaly for a given regional field\n",
    "#tf = sphere.tf(xp, yp, zp, modelSphere, inc, dec) + prism.tf(xp, yp, zp, modelPrism, inc, dec)\n",
    "#utils.contaminate(prism.gz(x, y, z, model), 0.5, seed=0)\n",
    "tf = utils.contaminate(sphere.tf(xp, yp, zp, modelSphere, inc, dec) + prism.tf(xp, yp, zp, modelPrism, inc, dec), \n",
    "                       0.005, seed=0, percent=True)"
   ]
  },
  {
   "cell_type": "markdown",
   "metadata": {},
   "source": [
    "A célula abaixo apenas transforma os prismas e esferas em projeções poligonais para visualização em mapa."
   ]
  },
  {
   "cell_type": "code",
   "execution_count": null,
   "metadata": {},
   "outputs": [],
   "source": [
    "pol = np.empty(modelPrism.__len__() + modelSphere.__len__(), dtype=object)\n",
    "for i in range(modelPrism.__len__()):\n",
    "    pol[i] = Polygon(prism2polygon(modelPrism[i]))\n",
    "for i in range(modelSphere.__len__()):\n",
    "    pol[i + modelPrism.__len__()] = Polygon(sphere2polygon(modelSphere[i]))"
   ]
  },
  {
   "cell_type": "markdown",
   "metadata": {},
   "source": [
    "A célula abaixo cria a imagem da _anomalia de campo total_."
   ]
  },
  {
   "cell_type": "code",
   "execution_count": null,
   "metadata": {
    "scrolled": true
   },
   "outputs": [],
   "source": [
    "# Plot\n",
    "mpl.figure(figsize=(25, 10))\n",
    "mpl.title(\"Total-field anomaly (nT)\")\n",
    "mpl.axis('scaled')\n",
    "mpl.contourf(yp, xp, tf, shape, 15)\n",
    "mpl.colorbar()\n",
    "for i in range(pol.__len__()):\n",
    "    mpl.polygon(pol[i], '-k', xy2ne=True)\n",
    "mpl.xlabel('East y (km)')\n",
    "mpl.ylabel('North x (km)')\n",
    "mpl.m2km()\n",
    "mpl.show()"
   ]
  },
  {
   "cell_type": "markdown",
   "metadata": {},
   "source": [
    "As células abaixo calculam as __derivadas__ do campo nas direções __x__, __y__ e __z__ e então plotam"
   ]
  },
  {
   "cell_type": "code",
   "execution_count": null,
   "metadata": {},
   "outputs": [],
   "source": [
    "tfx = transform.derivx(xp, yp, tf, shape)\n",
    "tfy = transform.derivy(xp, yp, tf, shape)\n",
    "tfz = transform.derivz(xp, yp, tf, shape)"
   ]
  },
  {
   "cell_type": "code",
   "execution_count": null,
   "metadata": {},
   "outputs": [],
   "source": [
    "# Plot\n",
    "mpl.figure(figsize=(25, 10))\n",
    "mpl.subplots_adjust(top=0.95, left=0.05, right=0.95)\n",
    "mpl.subplot(1, 3, 1)\n",
    "mpl.title(\"x deriv\", fontsize=20)\n",
    "mpl.axis('scaled')\n",
    "levels = mpl.contourf(yp, xp, tfx, shape, 12)\n",
    "mpl.colorbar(shrink=0.7)\n",
    "for i in range(pol.__len__()):\n",
    "    mpl.polygon(pol[i], '-k', xy2ne=True)\n",
    "#mpl.contour(yp, xp, gxz, shape, 12, color='k')\n",
    "mpl.m2km()\n",
    "mpl.subplot(1, 3, 2)\n",
    "mpl.title(\"y deriv\", fontsize=20)\n",
    "mpl.axis('scaled')\n",
    "levels = mpl.contourf(yp, xp, tfy, shape, 12)\n",
    "mpl.colorbar(shrink=0.7)\n",
    "#mpl.contour(yp, xp, gyz, shape, 12, color='k')\n",
    "for i in range(pol.__len__()):\n",
    "    mpl.polygon(pol[i], '-k', xy2ne=True)\n",
    "mpl.m2km()\n",
    "mpl.subplot(1, 3, 3)\n",
    "mpl.title(\"z deriv\", fontsize=20)\n",
    "mpl.axis('scaled')\n",
    "levels = mpl.contourf(yp, xp, tfz, shape, 8)\n",
    "mpl.colorbar(shrink=0.7)\n",
    "for i in range(pol.__len__()):\n",
    "    mpl.polygon(pol[i], '-k', xy2ne=True)\n",
    "#mpl.contour(yp, xp, gzz, shape, levels, color='k')\n",
    "mpl.show()"
   ]
  },
  {
   "cell_type": "markdown",
   "metadata": {},
   "source": [
    "As células abaixo calculam a __continuação para cima__ do campo e então plotam"
   ]
  },
  {
   "cell_type": "code",
   "execution_count": null,
   "metadata": {},
   "outputs": [],
   "source": [
    "height = 1000  # How much higher to go\n",
    "tfcontf = transform.upcontinue(xp, yp, tf, shape, height)\n",
    "tf_true = sphere.tf(xp, yp, zp - height, modelSphere, inc, dec) + prism.tf(xp, yp, zp - height, modelPrism, inc, dec)"
   ]
  },
  {
   "cell_type": "code",
   "execution_count": null,
   "metadata": {},
   "outputs": [],
   "source": [
    "# Plot\n",
    "mpl.figure(figsize=(25, 10))\n",
    "mpl.subplots_adjust(top=0.95, left=0.05, right=0.95)\n",
    "mpl.subplot(1, 3, 1)\n",
    "mpl.title(\"original\", fontsize=20)\n",
    "mpl.axis('scaled')\n",
    "levels = mpl.contourf(yp, xp, tf, shape, 30)\n",
    "mpl.colorbar(shrink=0.7)\n",
    "for i in range(pol.__len__()):\n",
    "    mpl.polygon(pol[i], '-k', xy2ne=True)\n",
    "#mpl.contour(yp, xp, gxz, shape, 12, color='k')\n",
    "mpl.m2km()\n",
    "mpl.subplot(1, 3, 2)\n",
    "mpl.title(\"continuacao para cima\", fontsize=20)\n",
    "mpl.axis('scaled')\n",
    "levels = mpl.contourf(yp, xp, tfcontf, shape, 30)\n",
    "mpl.colorbar(shrink=0.7)\n",
    "for i in range(pol.__len__()):\n",
    "    mpl.polygon(pol[i], '-k', xy2ne=True)\n",
    "#mpl.contour(yp, xp, gyz, shape, 12, color='k')\n",
    "mpl.m2km()\n",
    "mpl.subplot(1, 3, 3)\n",
    "mpl.title(\"campo calculado na altura verdadeira\", fontsize=20)\n",
    "mpl.axis('scaled')\n",
    "levels = mpl.contourf(yp, xp, tf_true, shape, 30)\n",
    "mpl.colorbar(shrink=0.7)\n",
    "for i in range(pol.__len__()):\n",
    "    mpl.polygon(pol[i], '-k', xy2ne=True)\n",
    "#mpl.contour(yp, xp, gyz, shape, 12, color='k')\n",
    "mpl.m2km()"
   ]
  },
  {
   "cell_type": "markdown",
   "metadata": {},
   "source": [
    "As células abaixo calculam a __redução ao pólo__ do campo e então plotam"
   ]
  },
  {
   "cell_type": "code",
   "execution_count": null,
   "metadata": {},
   "outputs": [],
   "source": [
    "pole = transform.reduce_to_pole(xp, yp, tf, shape, inc, dec, sinc=inc, sdec=dec)\n",
    "# Calculate the true value at the pole for comparison\n",
    "truetf = sphere.tf(xp, yp, zp, modelSphere, 90, 0, pmag=utils.ang2vec(10, 90, 0)) + prism.tf(xp, yp, zp, modelPrism, 90, 0, pmag=utils.ang2vec(10, 90, 0))\n",
    "#truetf = sphere.tf(xp, yp, zp, modelSphere, 90, 0) + prism.tf(xp, yp, zp, modelPrism, 90, 0)"
   ]
  },
  {
   "cell_type": "code",
   "execution_count": null,
   "metadata": {},
   "outputs": [],
   "source": [
    "# Plot\n",
    "mpl.figure(figsize=(25, 10))\n",
    "mpl.subplots_adjust(top=0.95, left=0.05, right=0.95)\n",
    "mpl.subplot(1, 3, 1)\n",
    "mpl.title(\"original\", fontsize=20)\n",
    "mpl.axis('scaled')\n",
    "levels = mpl.contourf(yp, xp, tf, shape, 30)\n",
    "mpl.colorbar(shrink=0.7)\n",
    "for i in range(pol.__len__()):\n",
    "    mpl.polygon(pol[i], '-k', xy2ne=True)\n",
    "#mpl.contour(yp, xp, gxz, shape, 12, color='k')\n",
    "mpl.m2km()\n",
    "mpl.subplot(1, 3, 2)\n",
    "mpl.title(\"valor verdadeiro no polo\", fontsize=20)\n",
    "mpl.axis('scaled')\n",
    "levels = mpl.contourf(yp, xp, truetf, shape, 30)\n",
    "mpl.colorbar(shrink=0.7)\n",
    "for i in range(pol.__len__()):\n",
    "    mpl.polygon(pol[i], '-k', xy2ne=True)\n",
    "#mpl.contour(yp, xp, gyz, shape, 12, color='k')\n",
    "mpl.m2km()\n",
    "mpl.subplot(1, 3, 3)\n",
    "mpl.title(\"reduzido ao polo\", fontsize=20)\n",
    "mpl.axis('scaled')\n",
    "levels = mpl.contourf(yp, xp, pole, shape, 30)\n",
    "mpl.colorbar(shrink=0.7)\n",
    "for i in range(pol.__len__()):\n",
    "    mpl.polygon(pol[i], '-k', xy2ne=True)\n",
    "#mpl.contour(yp, xp, gyz, shape, 12, color='k')\n",
    "mpl.m2km()"
   ]
  },
  {
   "cell_type": "markdown",
   "metadata": {},
   "source": [
    "As células abaixo calculam a __amplitude do gradiente total__ (também chamado de __sinal analítico__) do campo e então plotam"
   ]
  },
  {
   "cell_type": "code",
   "execution_count": null,
   "metadata": {},
   "outputs": [],
   "source": [
    "total_grad_amp = transform.tga(xp, yp, tf, shape)"
   ]
  },
  {
   "cell_type": "code",
   "execution_count": null,
   "metadata": {},
   "outputs": [],
   "source": [
    "#Plot\n",
    "mpl.figure(figsize=(25, 10))\n",
    "mpl.subplot(1, 2, 1)\n",
    "mpl.title(\"Original total field anomaly\", fontsize=20)\n",
    "mpl.axis('scaled')\n",
    "mpl.contourf(yp, xp, tf, shape, 30, cmap=mpl.cm.RdBu_r)\n",
    "mpl.colorbar(orientation='horizontal').set_label('nT')\n",
    "for i in range(pol.__len__()):\n",
    "    mpl.polygon(pol[i], '-k', xy2ne=True)\n",
    "mpl.m2km()\n",
    "mpl.subplot(1, 2, 2)\n",
    "mpl.title(\"Total Gradient Amplitude\", fontsize=20)\n",
    "mpl.axis('scaled')\n",
    "mpl.contourf(yp, xp, total_grad_amp, shape, 30, cmap=mpl.cm.RdBu_r)\n",
    "mpl.colorbar(orientation='horizontal').set_label('nT/m')\n",
    "for i in range(pol.__len__()):\n",
    "    mpl.polygon(pol[i], '-k', xy2ne=True)\n",
    "mpl.m2km()\n",
    "mpl.show()"
   ]
  },
  {
   "cell_type": "markdown",
   "metadata": {},
   "source": [
    "## Parte 2 - modelo prismas e esferas com magnetização **induzida** e **remanente**."
   ]
  },
  {
   "cell_type": "code",
   "execution_count": null,
   "metadata": {},
   "outputs": [],
   "source": [
    "# Create a sphere model\n",
    "modelSphere = [\n",
    "    # two with induced magnetization\n",
    "#    mesher.Sphere(0, 0, 600, 500,\n",
    "#                  {'magnetization': utils.ang2vec(0, inc, dec)}),\n",
    "    mesher.Sphere(-3000, -3000, 600, 500,\n",
    "                  {'magnetization': utils.ang2vec(10, inc, dec)}),\n",
    "    # and one with remanent\n",
    "    mesher.Sphere(0, 0, 600, 500,\n",
    "                  {'magnetization': utils.ang2vec(7, 0, -50)})]"
   ]
  },
  {
   "cell_type": "code",
   "execution_count": null,
   "metadata": {},
   "outputs": [],
   "source": [
    "# Create a prism model\n",
    "modelPrism = [\n",
    "    # two with induced magnetization\n",
    "    mesher.Prism(2800, 3200, -2000, 2000, 100, 1100,\n",
    "                  {'magnetization': utils.ang2vec(10, inc, dec)}),\n",
    "#    mesher.Prism(-4000, 0, 4200, 3800, 100, 1100,\n",
    "#                  {'magnetization': utils.ang2vec(10, inc, dec)}),\n",
    "    # and one with remanent\n",
    "    mesher.Prism(-4000, 0, 4200, 3800, 100, 1100,\n",
    "                  {'magnetization': utils.ang2vec(7, 0, -20)})]"
   ]
  },
  {
   "cell_type": "code",
   "execution_count": null,
   "metadata": {},
   "outputs": [],
   "source": [
    "# Create a regular grid at 100m height\n",
    "shape = (100, 100)\n",
    "area = (-5000, 5000, -5000, 5000)\n",
    "xp, yp, zp = gridder.regular(area, shape, z=-100)\n",
    "# Calculate the anomaly for a given regional field\n",
    "#tf = sphere.tf(xp, yp, zp, modelSphere, inc, dec) + prism.tf(xp, yp, zp, modelPrism, inc, dec)\n",
    "#utils.contaminate(prism.gz(x, y, z, model), 0.5, seed=0)\n",
    "tf = utils.contaminate(sphere.tf(xp, yp, zp, modelSphere, inc, dec) + prism.tf(xp, yp, zp, modelPrism, inc, dec), \n",
    "                       0.005, seed=0, percent=True)"
   ]
  },
  {
   "cell_type": "markdown",
   "metadata": {},
   "source": [
    "A célula abaixo apenas transforma os prismas e esferas em projeções poligonais para visualização em mapa."
   ]
  },
  {
   "cell_type": "code",
   "execution_count": null,
   "metadata": {},
   "outputs": [],
   "source": [
    "pol = np.empty(modelPrism.__len__() + modelSphere.__len__(), dtype=object)\n",
    "for i in range(modelPrism.__len__()):\n",
    "    pol[i] = Polygon(prism2polygon(modelPrism[i]))\n",
    "for i in range(modelSphere.__len__()):\n",
    "    pol[i + modelPrism.__len__()] = Polygon(sphere2polygon(modelSphere[i]))"
   ]
  },
  {
   "cell_type": "code",
   "execution_count": null,
   "metadata": {
    "scrolled": true
   },
   "outputs": [],
   "source": [
    "# Plot\n",
    "mpl.figure(figsize=(25, 10))\n",
    "mpl.title(\"Total-field anomaly (nT)\")\n",
    "mpl.axis('scaled')\n",
    "mpl.contourf(yp, xp, tf, shape, 15)\n",
    "mpl.colorbar()\n",
    "for i in range(pol.__len__()):\n",
    "    mpl.polygon(pol[i], '-k', xy2ne=True)\n",
    "mpl.xlabel('East y (km)')\n",
    "mpl.ylabel('North x (km)')\n",
    "mpl.m2km()\n",
    "mpl.show()"
   ]
  },
  {
   "cell_type": "markdown",
   "metadata": {},
   "source": [
    "As células abaixo calculam as __derivadas__ do campo nas direções __x__, __y__ e __z__ e então plotam"
   ]
  },
  {
   "cell_type": "code",
   "execution_count": null,
   "metadata": {},
   "outputs": [],
   "source": [
    "tfx = transform.derivx(xp, yp, tf, shape)\n",
    "tfy = transform.derivy(xp, yp, tf, shape)\n",
    "tfz = transform.derivz(xp, yp, tf, shape)"
   ]
  },
  {
   "cell_type": "code",
   "execution_count": null,
   "metadata": {},
   "outputs": [],
   "source": [
    "# Plot\n",
    "mpl.figure(figsize=(25, 10))\n",
    "mpl.subplots_adjust(top=0.95, left=0.05, right=0.95)\n",
    "mpl.subplot(1, 3, 1)\n",
    "mpl.title(\"x deriv\", fontsize=20)\n",
    "mpl.axis('scaled')\n",
    "levels = mpl.contourf(yp, xp, tfx, shape, 12)\n",
    "mpl.colorbar(shrink=0.7)\n",
    "for i in range(pol.__len__()):\n",
    "    mpl.polygon(pol[i], '-k', xy2ne=True)\n",
    "#mpl.contour(yp, xp, gxz, shape, 12, color='k')\n",
    "mpl.m2km()\n",
    "mpl.subplot(1, 3, 2)\n",
    "mpl.title(\"y deriv\", fontsize=20)\n",
    "mpl.axis('scaled')\n",
    "levels = mpl.contourf(yp, xp, tfy, shape, 12)\n",
    "mpl.colorbar(shrink=0.7)\n",
    "#mpl.contour(yp, xp, gyz, shape, 12, color='k')\n",
    "for i in range(pol.__len__()):\n",
    "    mpl.polygon(pol[i], '-k', xy2ne=True)\n",
    "mpl.m2km()\n",
    "mpl.subplot(1, 3, 3)\n",
    "mpl.title(\"z deriv\", fontsize=20)\n",
    "mpl.axis('scaled')\n",
    "levels = mpl.contourf(yp, xp, tfz, shape, 8)\n",
    "mpl.colorbar(shrink=0.7)\n",
    "for i in range(pol.__len__()):\n",
    "    mpl.polygon(pol[i], '-k', xy2ne=True)\n",
    "#mpl.contour(yp, xp, gzz, shape, levels, color='k')\n",
    "mpl.show()"
   ]
  },
  {
   "cell_type": "markdown",
   "metadata": {},
   "source": [
    "As células abaixo calculam a __continuação para cima__ do campo e então plotam"
   ]
  },
  {
   "cell_type": "code",
   "execution_count": null,
   "metadata": {},
   "outputs": [],
   "source": [
    "height = 1000  # How much higher to go\n",
    "tfcontf = transform.upcontinue(xp, yp, tf, shape, height)\n",
    "tf_true = sphere.tf(xp, yp, zp - height, modelSphere, inc, dec) + prism.tf(xp, yp, zp - height, modelPrism, inc, dec)"
   ]
  },
  {
   "cell_type": "code",
   "execution_count": null,
   "metadata": {},
   "outputs": [],
   "source": [
    "# Plot\n",
    "mpl.figure(figsize=(25, 10))\n",
    "mpl.subplots_adjust(top=0.95, left=0.05, right=0.95)\n",
    "mpl.subplot(1, 3, 1)\n",
    "mpl.title(\"original\", fontsize=20)\n",
    "mpl.axis('scaled')\n",
    "levels = mpl.contourf(yp, xp, tf, shape, 30)\n",
    "mpl.colorbar(shrink=0.7)\n",
    "for i in range(pol.__len__()):\n",
    "    mpl.polygon(pol[i], '-k', xy2ne=True)\n",
    "#mpl.contour(yp, xp, gxz, shape, 12, color='k')\n",
    "mpl.m2km()\n",
    "mpl.subplot(1, 3, 2)\n",
    "mpl.title(\"continuacao para cima\", fontsize=20)\n",
    "mpl.axis('scaled')\n",
    "levels = mpl.contourf(yp, xp, tfcontf, shape, 30)\n",
    "mpl.colorbar(shrink=0.7)\n",
    "for i in range(pol.__len__()):\n",
    "    mpl.polygon(pol[i], '-k', xy2ne=True)\n",
    "#mpl.contour(yp, xp, gyz, shape, 12, color='k')\n",
    "mpl.m2km()\n",
    "mpl.subplot(1, 3, 3)\n",
    "mpl.title(\"campo calculado na altura verdadeira\", fontsize=20)\n",
    "mpl.axis('scaled')\n",
    "levels = mpl.contourf(yp, xp, tf_true, shape, 30)\n",
    "mpl.colorbar(shrink=0.7)\n",
    "for i in range(pol.__len__()):\n",
    "    mpl.polygon(pol[i], '-k', xy2ne=True)\n",
    "#mpl.contour(yp, xp, gyz, shape, 12, color='k')\n",
    "mpl.m2km()"
   ]
  },
  {
   "cell_type": "markdown",
   "metadata": {},
   "source": [
    "As células abaixo calculam a __redução ao pólo__ do campo e então plotam"
   ]
  },
  {
   "cell_type": "code",
   "execution_count": null,
   "metadata": {},
   "outputs": [],
   "source": [
    "pole = transform.reduce_to_pole(xp, yp, tf, shape, inc, dec, sinc=inc, sdec=dec)\n",
    "# Calculate the true value at the pole for comparison\n",
    "truetf = sphere.tf(xp, yp, zp, modelSphere, 90, 0, pmag=utils.ang2vec(10, 90, 0)) + prism.tf(xp, yp, zp, modelPrism, 90, 0, pmag=utils.ang2vec(10, 90, 0))\n",
    "#truetf = sphere.tf(xp, yp, zp, modelSphere, 90, 0) + prism.tf(xp, yp, zp, modelPrism, 90, 0)"
   ]
  },
  {
   "cell_type": "code",
   "execution_count": null,
   "metadata": {},
   "outputs": [],
   "source": [
    "# Plot\n",
    "mpl.figure(figsize=(25, 10))\n",
    "mpl.subplots_adjust(top=0.95, left=0.05, right=0.95)\n",
    "mpl.subplot(1, 3, 1)\n",
    "mpl.title(\"original\", fontsize=20)\n",
    "mpl.axis('scaled')\n",
    "levels = mpl.contourf(yp, xp, tf, shape, 30)\n",
    "mpl.colorbar(shrink=0.7)\n",
    "for i in range(pol.__len__()):\n",
    "    mpl.polygon(pol[i], '-k', xy2ne=True)\n",
    "#mpl.contour(yp, xp, gxz, shape, 12, color='k')\n",
    "mpl.m2km()\n",
    "mpl.subplot(1, 3, 2)\n",
    "mpl.title(\"valor verdadeiro no polo\", fontsize=20)\n",
    "mpl.axis('scaled')\n",
    "levels = mpl.contourf(yp, xp, truetf, shape, 30)\n",
    "mpl.colorbar(shrink=0.7)\n",
    "for i in range(pol.__len__()):\n",
    "    mpl.polygon(pol[i], '-k', xy2ne=True)\n",
    "#mpl.contour(yp, xp, gyz, shape, 12, color='k')\n",
    "mpl.m2km()\n",
    "mpl.subplot(1, 3, 3)\n",
    "mpl.title(\"reduzido ao polo\", fontsize=20)\n",
    "mpl.axis('scaled')\n",
    "levels = mpl.contourf(yp, xp, pole, shape, 30)\n",
    "mpl.colorbar(shrink=0.7)\n",
    "for i in range(pol.__len__()):\n",
    "    mpl.polygon(pol[i], '-k', xy2ne=True)\n",
    "#mpl.contour(yp, xp, gyz, shape, 12, color='k')\n",
    "mpl.m2km()"
   ]
  },
  {
   "cell_type": "markdown",
   "metadata": {},
   "source": [
    "As células abaixo calculam a __amplitude do gradiente total__ (também chamado de __sinal analítico__) do campo e então plotam"
   ]
  },
  {
   "cell_type": "code",
   "execution_count": null,
   "metadata": {},
   "outputs": [],
   "source": [
    "total_grad_amp = transform.tga(xp, yp, tf, shape)"
   ]
  },
  {
   "cell_type": "code",
   "execution_count": null,
   "metadata": {},
   "outputs": [],
   "source": [
    "#Plot\n",
    "mpl.figure(figsize=(25, 10))\n",
    "mpl.subplot(1, 2, 1)\n",
    "mpl.title(\"Original total field anomaly\", fontsize=20)\n",
    "mpl.axis('scaled')\n",
    "mpl.contourf(yp, xp, tf, shape, 30, cmap=mpl.cm.RdBu_r)\n",
    "mpl.colorbar(orientation='horizontal').set_label('nT')\n",
    "for i in range(pol.__len__()):\n",
    "    mpl.polygon(pol[i], '-k', xy2ne=True)\n",
    "mpl.m2km()\n",
    "mpl.subplot(1, 2, 2)\n",
    "mpl.title(\"Total Gradient Amplitude\", fontsize=20)\n",
    "mpl.axis('scaled')\n",
    "mpl.contourf(yp, xp, total_grad_amp, shape, 30, cmap=mpl.cm.RdBu_r)\n",
    "mpl.colorbar(orientation='horizontal').set_label('nT/m')\n",
    "for i in range(pol.__len__()):\n",
    "    mpl.polygon(pol[i], '-k', xy2ne=True)\n",
    "mpl.m2km()\n",
    "mpl.show()"
   ]
  }
 ],
 "metadata": {
  "kernelspec": {
   "display_name": "Python 2",
   "language": "python",
   "name": "python2"
  },
  "language_info": {
   "codemirror_mode": {
    "name": "ipython",
    "version": 2
   },
   "file_extension": ".py",
   "mimetype": "text/x-python",
   "name": "python",
   "nbconvert_exporter": "python",
   "pygments_lexer": "ipython2",
   "version": "2.7.15"
  }
 },
 "nbformat": 4,
 "nbformat_minor": 1
}
