{
 "cells": [
  {
   "cell_type": "markdown",
   "metadata": {},
   "source": [
    "# Electromagnetics: 3-loop model\n",
    "\n",
    "In the first part of this notebook, we consider a 3 loop system, consisting of a transmitter loop, receiver loop, and target loop. \n",
    "\n",
    "<img src=\"https://github.com/geoscixyz/gpgLabs/blob/master/figures/EM/FEM3Loop/SurveyParams.png?raw=true\" style=\"width: 60%; height: 60%\"> </img>\n",
    "\n",
    "\n",
    "## Import Necessary Packages"
   ]
  },
  {
   "cell_type": "code",
   "execution_count": 1,
   "metadata": {},
   "outputs": [],
   "source": [
    "%matplotlib inline\n",
    "from em_examples.FDEM3loop import interactfem3loop\n",
    "from em_examples.FDEMpipe import interact_femPipe"
   ]
  },
  {
   "cell_type": "code",
   "execution_count": 2,
   "metadata": {},
   "outputs": [],
   "source": [
    "from matplotlib import rcParams\n",
    "rcParams['font.size'] = 14"
   ]
  },
  {
   "cell_type": "markdown",
   "metadata": {},
   "source": [
    "\n",
    "Your Default Parameters should be: \n",
    "\n",
    "<table>\n",
    "<tr>\n",
    "<th>Parameter </th>\n",
    "<th>Default value</th>\n",
    "</tr>\n",
    "<tr>\n",
    "<td>Inductance:</td>\n",
    "<td>L = 0.1</td>\n",
    "</tr>\n",
    "<tr>\n",
    "<td>Resistance:</td>\n",
    "<td>R = 2000</td>\n",
    "</tr>\n",
    "<tr>\n",
    "<td>X-center of target loop:</td>\n",
    "<td>xc = 0</td>\n",
    "</tr>\n",
    "<tr>\n",
    "<td>Y-center of target loop:</td>\n",
    "<td>yc = 0</td>\n",
    "</tr>\n",
    "<tr>\n",
    "<td>Z-center of target loop:</td>\n",
    "<td>zc = 1</td>\n",
    "</tr>\n",
    "<tr>\n",
    "<td>Inclination of target loop:</td>\n",
    "<td>dincl = 0</td>\n",
    "</tr>\n",
    "<tr>\n",
    "<td>Declination of target loop:</td>\n",
    "<td>ddecl = 90</td>\n",
    "</tr>\n",
    "<tr>\n",
    "<td>Frequency:</td>\n",
    "<td>f = 10000 </td>\n",
    "</tr>\n",
    "<tr>\n",
    "<td>Sample spacing:</td>\n",
    "<td>dx = 0.25 </td>\n",
    "</tr>\n",
    "</table>\n",
    "\n",
    "To use the default parameters below, either click the box for \"default\" or adjust the sliders for R, zc, and dx. When answering the lab questions, make sure all the sliders are where they should be!"
   ]
  },
  {
   "cell_type": "markdown",
   "metadata": {},
   "source": [
    "## Run FEM3loop Widget"
   ]
  },
  {
   "cell_type": "code",
   "execution_count": 3,
   "metadata": {
    "scrolled": false
   },
   "outputs": [
    {
     "data": {
      "application/vnd.jupyter.widget-view+json": {
       "model_id": "cb52fe644bff4a349b3ebe484995cdc7",
       "version_major": 2,
       "version_minor": 0
      },
      "text/html": [
       "<p>Failed to display Jupyter Widget of type <code>interactive</code>.</p>\n",
       "<p>\n",
       "  If you're reading this message in the Jupyter Notebook or JupyterLab Notebook, it may mean\n",
       "  that the widgets JavaScript is still loading. If this message persists, it\n",
       "  likely means that the widgets JavaScript library is either not installed or\n",
       "  not enabled. See the <a href=\"https://ipywidgets.readthedocs.io/en/stable/user_install.html\">Jupyter\n",
       "  Widgets Documentation</a> for setup instructions.\n",
       "</p>\n",
       "<p>\n",
       "  If you're reading this message in another frontend (for example, a static\n",
       "  rendering on GitHub or <a href=\"https://nbviewer.jupyter.org/\">NBViewer</a>),\n",
       "  it may mean that your frontend doesn't currently support widgets.\n",
       "</p>\n"
      ],
      "text/plain": [
       "interactive(children=(FloatSlider(value=0.1, continuous_update=False, description='L', max=0.2, step=0.01), FloatSlider(value=2000.0, continuous_update=False, description='R', max=20000.0, step=1000.0), FloatSlider(value=0.0, continuous_update=False, description='yc', max=10.0, min=-10.0, step=1.0), FloatSlider(value=0.0, continuous_update=False, description='xc', max=10.0, min=-10.0, step=1.0), FloatSlider(value=1.0, continuous_update=False, description='zc', max=10.0, step=0.5), FloatSlider(value=0.0, continuous_update=False, description='dincl', max=90.0, min=-90.0, step=1.0), FloatSlider(value=90.0, continuous_update=False, description='ddecl', max=180.0, step=1.0), FloatSlider(value=10000.0, continuous_update=False, description='f', max=19990.0, min=10.0, step=10.0), FloatSlider(value=0.25, continuous_update=False, description='dx', max=5.0, min=0.25, step=0.25), Checkbox(value=False, description='showDataPts'), Output()), _dom_classes=('widget-interact',))"
      ]
     },
     "metadata": {},
     "output_type": "display_data"
    }
   ],
   "source": [
    "fem3loop = interactfem3loop()\n",
    "fem3loop"
   ]
  },
  {
   "cell_type": "markdown",
   "metadata": {},
   "source": [
    "# Pipe Widget\n",
    "\n",
    "In the following app, we consider a loop-loop system with a pipe taget. Here, we simulate two surveys, one where the boom is oriented East-West (EW) and one where the boom is oriented North-South (NS). \n",
    "\n",
    "<img src=\"https://github.com/geoscixyz/gpgLabs/blob/master/figures/EM/FEM3Loop/model.png?raw=true\" style=\"width: 40%; height: 40%\"> </img>\n",
    "\n",
    "The variables are:\n",
    "\n",
    "- alpha: \n",
    "$$\\alpha = \\frac{\\omega L}{R} = \\frac{2\\pi f L}{R}$$\n",
    "- pipedepth: Depth of the pipe center\n",
    "\n",
    "We plot the percentage of Hp/Hs ratio in the Widget. "
   ]
  },
  {
   "cell_type": "code",
   "execution_count": 4,
   "metadata": {},
   "outputs": [
    {
     "data": {
      "application/vnd.jupyter.widget-view+json": {
       "model_id": "5aacc6ceba1e49a8bafc60cb5cc2c1b9",
       "version_major": 2,
       "version_minor": 0
      },
      "text/html": [
       "<p>Failed to display Jupyter Widget of type <code>interactive</code>.</p>\n",
       "<p>\n",
       "  If you're reading this message in the Jupyter Notebook or JupyterLab Notebook, it may mean\n",
       "  that the widgets JavaScript is still loading. If this message persists, it\n",
       "  likely means that the widgets JavaScript library is either not installed or\n",
       "  not enabled. See the <a href=\"https://ipywidgets.readthedocs.io/en/stable/user_install.html\">Jupyter\n",
       "  Widgets Documentation</a> for setup instructions.\n",
       "</p>\n",
       "<p>\n",
       "  If you're reading this message in another frontend (for example, a static\n",
       "  rendering on GitHub or <a href=\"https://nbviewer.jupyter.org/\">NBViewer</a>),\n",
       "  it may mean that your frontend doesn't currently support widgets.\n",
       "</p>\n"
      ],
      "text/plain": [
       "interactive(children=(FloatSlider(value=1.0, continuous_update=False, description='alpha', max=5.0, min=0.1), FloatSlider(value=1.0, continuous_update=False, description='pipedepth', max=4.0, min=0.5), Output()), _dom_classes=('widget-interact',))"
      ]
     },
     "metadata": {},
     "output_type": "display_data"
    }
   ],
   "source": [
    "pipe = interact_femPipe()\n",
    "pipe"
   ]
  },
  {
   "cell_type": "code",
   "execution_count": null,
   "metadata": {},
   "outputs": [],
   "source": []
  },
  {
   "cell_type": "code",
   "execution_count": null,
   "metadata": {},
   "outputs": [],
   "source": []
  }
 ],
 "metadata": {
  "anaconda-cloud": {},
  "kernelspec": {
   "display_name": "Python 3",
   "language": "python",
   "name": "python3"
  },
  "language_info": {
   "codemirror_mode": {
    "name": "ipython",
    "version": 3
   },
   "file_extension": ".py",
   "mimetype": "text/x-python",
   "name": "python",
   "nbconvert_exporter": "python",
   "pygments_lexer": "ipython3",
   "version": "3.6.4"
  }
 },
 "nbformat": 4,
 "nbformat_minor": 1
}
