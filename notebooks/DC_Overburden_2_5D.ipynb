{
 "cells": [
  {
   "cell_type": "code",
   "execution_count": 1,
   "metadata": {
    "scrolled": true
   },
   "outputs": [],
   "source": [
    "from em_examples.DCWidget_Overburden_2_5D import *\n",
    "from IPython.display import display\n",
    "%matplotlib inline"
   ]
  },
  {
   "cell_type": "code",
   "execution_count": 3,
   "metadata": {},
   "outputs": [],
   "source": [
    "from matplotlib import rcParams\n",
    "rcParams['font.size'] = 14"
   ]
  },
  {
   "cell_type": "markdown",
   "metadata": {},
   "source": [
    "# Effects of a highly Conductive surface layer"
   ]
  },
  {
   "cell_type": "markdown",
   "metadata": {},
   "source": [
    "# Purpose \n",
    "\n",
    "For a direct current resistivity (DCR) survey, currents are injected to the earth, and flow. \n",
    "Depending upon the conductivity contrast current flow in the earth will be distorted, and these changes \n",
    "can be measurable on the sufurface electrodes. \n",
    "Here, we focus on a bloc target embedded in a halfspace below a highly conductive surface layer, and investigate what are happening in the earth when static currents are injected. The conductive layer will also impact the illumination of the target (conductor or resistor).\n",
    "By investigating changes in currents, electric fields, potential, and charges upon different geometry, Tx and Rx location, we understand geometric effects of the conductive layer for DCR survey. "
   ]
  },
  {
   "cell_type": "markdown",
   "metadata": {},
   "source": [
    "# Setup"
   ]
  },
  {
   "cell_type": "markdown",
   "metadata": {},
   "source": [
    "<img src=https://github.com/geoscixyz/em_apps/blob/master/images/Dcapps_Overburden_draw.png?raw=true>"
   ]
  },
  {
   "cell_type": "markdown",
   "metadata": {},
   "source": [
    "# Question\n",
    "\n",
    "- How does the Target affect the apparent resistivity? Is there a difference if you add or remove the target?"
   ]
  },
  {
   "cell_type": "markdown",
   "metadata": {},
   "source": [
    "## Overburden model"
   ]
  },
  {
   "cell_type": "markdown",
   "metadata": {},
   "source": [
    " - **survey**: Type of survey\n",
    " - **A**: Electrode A (+) location\n",
    " - **B**: Electrode B (-) location\n",
    " - **M**: Electrode A (+) location\n",
    " - **N**: Electrode B (-) location\n",
    " - **$\\rho_{1}$**: Resistivity of the half-space\n",
    " - **$\\rho_{2}$**: Resistivity of the overburden\n",
    " - **$\\rho_{3}$**: Resistivity of the target\n",
    " - **Overburden_thick**: thickness of the overburden\n",
    " - **target_thick**: thickness of the target\n",
    " - **target_wide**: width of the target\n",
    " - **whichprimary**: which model to consider as primary: either uniform background or Overburden model\n",
    " - **ellips_a**: x radius of ellipse\n",
    " - **ellips_b**: z radius of ellipse\n",
    " - **xc**: x location of ellipse center\n",
    " - **zc**: z location of ellipse center\n",
    " - **Field**: Field to visualize\n",
    " - **Type**: which part of the field\n",
    " - **Scale**: Linear or Log Scale visualization\n",
    " \n",
    "###  **When typing modifications to values, do not forget to PRESS ENTER**\n",
    "###  **Do not forget to hit Run Interact to update the figure after you made modifications**"
   ]
  },
  {
   "cell_type": "code",
   "execution_count": 4,
   "metadata": {
    "scrolled": false
   },
   "outputs": [
    {
     "data": {
      "application/vnd.jupyter.widget-view+json": {
       "model_id": "32d0aec7d2d143b2ba0cf6af65b7854e",
       "version_major": 2,
       "version_minor": 0
      },
      "text/html": [
       "<p>Failed to display Jupyter Widget of type <code>interactive</code>.</p>\n",
       "<p>\n",
       "  If you're reading this message in the Jupyter Notebook or JupyterLab Notebook, it may mean\n",
       "  that the widgets JavaScript is still loading. If this message persists, it\n",
       "  likely means that the widgets JavaScript library is either not installed or\n",
       "  not enabled. See the <a href=\"https://ipywidgets.readthedocs.io/en/stable/user_install.html\">Jupyter\n",
       "  Widgets Documentation</a> for setup instructions.\n",
       "</p>\n",
       "<p>\n",
       "  If you're reading this message in another frontend (for example, a static\n",
       "  rendering on GitHub or <a href=\"https://nbviewer.jupyter.org/\">NBViewer</a>),\n",
       "  it may mean that your frontend doesn't currently support widgets.\n",
       "</p>\n"
      ],
      "text/plain": [
       "interactive(children=(ToggleButtons(description='survey', options=('Dipole-Dipole', 'Dipole-Pole', 'Pole-Dipole', 'Pole-Pole'), value='Dipole-Dipole'), FloatSlider(value=-510.0, description='A', max=1010.0, min=-1010.0, step=20.0), FloatSlider(value=510.0, description='B', max=1010.0, min=-1010.0, step=20.0), FloatSlider(value=-210.0, description='M', max=1010.0, min=-1010.0, step=20.0), FloatSlider(value=210.0, description='N', max=1010.0, min=-1010.0, step=20.0), FloatText(value=1000.0, description='$\\\\rho_1$'), FloatText(value=100.0, description='$\\\\rho_2$'), FloatText(value=500.0, description='$\\\\rho_3$'), FloatSlider(value=200.0, description='overburden_thick', max=1000.0, step=10.0), FloatSlider(value=200.0, description='target_thick', max=1000.0, step=10.0), FloatSlider(value=200.0, description='target_wide', max=1000.0, step=10.0), ToggleButtons(description='whichprimary', index=1, options=('air', 'overburden'), value='overburden'), FloatSlider(value=1000.0, description='ellips_a', max=10000.0, min=10.0, step=100.0), FloatSlider(value=500.0, description='ellips_b', max=10000.0, min=10.0, step=100.0), FloatSlider(value=0.0, description='xc', max=1000.0, min=-1005.0, step=10.0), FloatSlider(value=250.0, description='zc', max=1000.0, min=-1000.0, step=10.0), ToggleButtons(description='Field', index=3, options=('Model', 'Potential', 'E', 'J', 'Charge', 'Sensitivity'), value='J'), ToggleButtons(description='Type', options=('Total', 'Primary', 'Secondary'), value='Total'), ToggleButtons(description='Scale', index=1, options=('Linear', 'Log'), value='Log'), Button(description='Run Interact', style=ButtonStyle()), Output()), _dom_classes=('widget-interact',))"
      ]
     },
     "metadata": {},
     "output_type": "display_data"
    }
   ],
   "source": [
    "app = valley_app()"
   ]
  },
  {
   "cell_type": "code",
   "execution_count": null,
   "metadata": {},
   "outputs": [],
   "source": []
  }
 ],
 "metadata": {
  "anaconda-cloud": {},
  "kernelspec": {
   "display_name": "Python 2",
   "language": "python",
   "name": "python2"
  },
  "language_info": {
   "codemirror_mode": {
    "name": "ipython",
    "version": 2
   },
   "file_extension": ".py",
   "mimetype": "text/x-python",
   "name": "python",
   "nbconvert_exporter": "python",
   "pygments_lexer": "ipython2",
   "version": "2.7.15"
  },
  "widgets": {
   "state": {
    "4a242c6d21d24a68b2dbdf57fb68595b": {
     "views": [
      {
       "cell_index": 8
      }
     ]
    }
   },
   "version": "1.2.0"
  }
 },
 "nbformat": 4,
 "nbformat_minor": 1
}
